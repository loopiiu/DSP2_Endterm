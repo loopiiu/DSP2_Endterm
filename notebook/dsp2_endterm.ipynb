{
 "cells": [
  {
   "cell_type": "code",
   "execution_count": 1,
   "id": "ccd39cb0",
   "metadata": {},
   "outputs": [],
   "source": [
    "import warnings\n",
    "warnings.filterwarnings('ignore')"
   ]
  },
  {
   "cell_type": "code",
   "execution_count": 2,
   "id": "3a921911",
   "metadata": {},
   "outputs": [],
   "source": [
    "import numpy as np\n",
    "import pandas as pd\n",
    "import seaborn as sns\n",
    "import matplotlib.pyplot as plt"
   ]
  },
  {
   "cell_type": "markdown",
   "id": "1f71e6f9",
   "metadata": {},
   "source": [
    "## About the dataset\n",
    "### Expresso Churn Prediction Challenge"
   ]
  },
  {
   "cell_type": "markdown",
   "id": "2086a56c",
   "metadata": {},
   "source": [
    "Expresso is an African telecommunications company that provides customers with airtime and mobile data bundles. The objective of this challenge is to develop a machine learning model to predict the likelihood of each Expresso customer “churning,” i.e. becoming inactive and not making any transactions for 90 days."
   ]
  },
  {
   "cell_type": "code",
   "execution_count": 3,
   "id": "1b39e35d",
   "metadata": {},
   "outputs": [
    {
     "data": {
      "text/html": [
       "<div>\n",
       "<style scoped>\n",
       "    .dataframe tbody tr th:only-of-type {\n",
       "        vertical-align: middle;\n",
       "    }\n",
       "\n",
       "    .dataframe tbody tr th {\n",
       "        vertical-align: top;\n",
       "    }\n",
       "\n",
       "    .dataframe thead th {\n",
       "        text-align: right;\n",
       "    }\n",
       "</style>\n",
       "<table border=\"1\" class=\"dataframe\">\n",
       "  <thead>\n",
       "    <tr style=\"text-align: right;\">\n",
       "      <th></th>\n",
       "      <th>user_id</th>\n",
       "      <th>REGION</th>\n",
       "      <th>TENURE</th>\n",
       "      <th>MONTANT</th>\n",
       "      <th>FREQUENCE_RECH</th>\n",
       "      <th>REVENUE</th>\n",
       "      <th>ARPU_SEGMENT</th>\n",
       "      <th>FREQUENCE</th>\n",
       "      <th>DATA_VOLUME</th>\n",
       "      <th>ON_NET</th>\n",
       "      <th>ORANGE</th>\n",
       "      <th>TIGO</th>\n",
       "      <th>ZONE1</th>\n",
       "      <th>ZONE2</th>\n",
       "      <th>MRG</th>\n",
       "      <th>REGULARITY</th>\n",
       "      <th>TOP_PACK</th>\n",
       "      <th>FREQ_TOP_PACK</th>\n",
       "      <th>CHURN</th>\n",
       "    </tr>\n",
       "  </thead>\n",
       "  <tbody>\n",
       "    <tr>\n",
       "      <th>0</th>\n",
       "      <td>00000bfd7d50f01092811bc0c8d7b0d6fe7c3596</td>\n",
       "      <td>FATICK</td>\n",
       "      <td>K &gt; 24 month</td>\n",
       "      <td>4250.0</td>\n",
       "      <td>15.0</td>\n",
       "      <td>4251.0</td>\n",
       "      <td>1417.0</td>\n",
       "      <td>17.0</td>\n",
       "      <td>4.0</td>\n",
       "      <td>388.0</td>\n",
       "      <td>46.0</td>\n",
       "      <td>1.0</td>\n",
       "      <td>1.0</td>\n",
       "      <td>2.0</td>\n",
       "      <td>NO</td>\n",
       "      <td>54</td>\n",
       "      <td>On net 200F=Unlimited _call24H</td>\n",
       "      <td>8.0</td>\n",
       "      <td>0</td>\n",
       "    </tr>\n",
       "    <tr>\n",
       "      <th>1</th>\n",
       "      <td>00000cb4a5d760de88fecb38e2f71b7bec52e834</td>\n",
       "      <td>NaN</td>\n",
       "      <td>I 18-21 month</td>\n",
       "      <td>NaN</td>\n",
       "      <td>NaN</td>\n",
       "      <td>NaN</td>\n",
       "      <td>NaN</td>\n",
       "      <td>NaN</td>\n",
       "      <td>NaN</td>\n",
       "      <td>NaN</td>\n",
       "      <td>NaN</td>\n",
       "      <td>NaN</td>\n",
       "      <td>NaN</td>\n",
       "      <td>NaN</td>\n",
       "      <td>NO</td>\n",
       "      <td>4</td>\n",
       "      <td>NaN</td>\n",
       "      <td>NaN</td>\n",
       "      <td>1</td>\n",
       "    </tr>\n",
       "    <tr>\n",
       "      <th>2</th>\n",
       "      <td>00001654a9d9f96303d9969d0a4a851714a4bb57</td>\n",
       "      <td>NaN</td>\n",
       "      <td>K &gt; 24 month</td>\n",
       "      <td>3600.0</td>\n",
       "      <td>2.0</td>\n",
       "      <td>1020.0</td>\n",
       "      <td>340.0</td>\n",
       "      <td>2.0</td>\n",
       "      <td>NaN</td>\n",
       "      <td>90.0</td>\n",
       "      <td>46.0</td>\n",
       "      <td>7.0</td>\n",
       "      <td>NaN</td>\n",
       "      <td>NaN</td>\n",
       "      <td>NO</td>\n",
       "      <td>17</td>\n",
       "      <td>On-net 1000F=10MilF;10d</td>\n",
       "      <td>1.0</td>\n",
       "      <td>0</td>\n",
       "    </tr>\n",
       "    <tr>\n",
       "      <th>3</th>\n",
       "      <td>00001dd6fa45f7ba044bd5d84937be464ce78ac2</td>\n",
       "      <td>DAKAR</td>\n",
       "      <td>K &gt; 24 month</td>\n",
       "      <td>13500.0</td>\n",
       "      <td>15.0</td>\n",
       "      <td>13502.0</td>\n",
       "      <td>4501.0</td>\n",
       "      <td>18.0</td>\n",
       "      <td>43804.0</td>\n",
       "      <td>41.0</td>\n",
       "      <td>102.0</td>\n",
       "      <td>2.0</td>\n",
       "      <td>NaN</td>\n",
       "      <td>NaN</td>\n",
       "      <td>NO</td>\n",
       "      <td>62</td>\n",
       "      <td>Data:1000F=5GB,7d</td>\n",
       "      <td>11.0</td>\n",
       "      <td>0</td>\n",
       "    </tr>\n",
       "    <tr>\n",
       "      <th>4</th>\n",
       "      <td>000028d9e13a595abe061f9b58f3d76ab907850f</td>\n",
       "      <td>DAKAR</td>\n",
       "      <td>K &gt; 24 month</td>\n",
       "      <td>1000.0</td>\n",
       "      <td>1.0</td>\n",
       "      <td>985.0</td>\n",
       "      <td>328.0</td>\n",
       "      <td>1.0</td>\n",
       "      <td>NaN</td>\n",
       "      <td>39.0</td>\n",
       "      <td>24.0</td>\n",
       "      <td>NaN</td>\n",
       "      <td>NaN</td>\n",
       "      <td>NaN</td>\n",
       "      <td>NO</td>\n",
       "      <td>11</td>\n",
       "      <td>Mixt 250F=Unlimited_call24H</td>\n",
       "      <td>2.0</td>\n",
       "      <td>0</td>\n",
       "    </tr>\n",
       "  </tbody>\n",
       "</table>\n",
       "</div>"
      ],
      "text/plain": [
       "                                    user_id  REGION         TENURE  MONTANT  \\\n",
       "0  00000bfd7d50f01092811bc0c8d7b0d6fe7c3596  FATICK   K > 24 month   4250.0   \n",
       "1  00000cb4a5d760de88fecb38e2f71b7bec52e834     NaN  I 18-21 month      NaN   \n",
       "2  00001654a9d9f96303d9969d0a4a851714a4bb57     NaN   K > 24 month   3600.0   \n",
       "3  00001dd6fa45f7ba044bd5d84937be464ce78ac2   DAKAR   K > 24 month  13500.0   \n",
       "4  000028d9e13a595abe061f9b58f3d76ab907850f   DAKAR   K > 24 month   1000.0   \n",
       "\n",
       "   FREQUENCE_RECH  REVENUE  ARPU_SEGMENT  FREQUENCE  DATA_VOLUME  ON_NET  \\\n",
       "0            15.0   4251.0        1417.0       17.0          4.0   388.0   \n",
       "1             NaN      NaN           NaN        NaN          NaN     NaN   \n",
       "2             2.0   1020.0         340.0        2.0          NaN    90.0   \n",
       "3            15.0  13502.0        4501.0       18.0      43804.0    41.0   \n",
       "4             1.0    985.0         328.0        1.0          NaN    39.0   \n",
       "\n",
       "   ORANGE  TIGO  ZONE1  ZONE2 MRG  REGULARITY                        TOP_PACK  \\\n",
       "0    46.0   1.0    1.0    2.0  NO          54  On net 200F=Unlimited _call24H   \n",
       "1     NaN   NaN    NaN    NaN  NO           4                             NaN   \n",
       "2    46.0   7.0    NaN    NaN  NO          17         On-net 1000F=10MilF;10d   \n",
       "3   102.0   2.0    NaN    NaN  NO          62               Data:1000F=5GB,7d   \n",
       "4    24.0   NaN    NaN    NaN  NO          11     Mixt 250F=Unlimited_call24H   \n",
       "\n",
       "   FREQ_TOP_PACK  CHURN  \n",
       "0            8.0      0  \n",
       "1            NaN      1  \n",
       "2            1.0      0  \n",
       "3           11.0      0  \n",
       "4            2.0      0  "
      ]
     },
     "execution_count": 3,
     "metadata": {},
     "output_type": "execute_result"
    }
   ],
   "source": [
    "train = pd.read_csv('Train.csv')\n",
    "train.head()"
   ]
  },
  {
   "cell_type": "code",
   "execution_count": 4,
   "id": "594b3c0d",
   "metadata": {},
   "outputs": [
    {
     "data": {
      "text/html": [
       "<div>\n",
       "<style scoped>\n",
       "    .dataframe tbody tr th:only-of-type {\n",
       "        vertical-align: middle;\n",
       "    }\n",
       "\n",
       "    .dataframe tbody tr th {\n",
       "        vertical-align: top;\n",
       "    }\n",
       "\n",
       "    .dataframe thead th {\n",
       "        text-align: right;\n",
       "    }\n",
       "</style>\n",
       "<table border=\"1\" class=\"dataframe\">\n",
       "  <thead>\n",
       "    <tr style=\"text-align: right;\">\n",
       "      <th></th>\n",
       "      <th>user_id</th>\n",
       "      <th>REGION</th>\n",
       "      <th>TENURE</th>\n",
       "      <th>MONTANT</th>\n",
       "      <th>FREQUENCE_RECH</th>\n",
       "      <th>REVENUE</th>\n",
       "      <th>ARPU_SEGMENT</th>\n",
       "      <th>FREQUENCE</th>\n",
       "      <th>DATA_VOLUME</th>\n",
       "      <th>ON_NET</th>\n",
       "      <th>ORANGE</th>\n",
       "      <th>TIGO</th>\n",
       "      <th>ZONE1</th>\n",
       "      <th>ZONE2</th>\n",
       "      <th>MRG</th>\n",
       "      <th>REGULARITY</th>\n",
       "      <th>TOP_PACK</th>\n",
       "      <th>FREQ_TOP_PACK</th>\n",
       "    </tr>\n",
       "  </thead>\n",
       "  <tbody>\n",
       "    <tr>\n",
       "      <th>0</th>\n",
       "      <td>00001dbe00e56fc4b1c1b65dda63de2a5ece55f9</td>\n",
       "      <td>THIES</td>\n",
       "      <td>K &gt; 24 month</td>\n",
       "      <td>5000.0</td>\n",
       "      <td>5.0</td>\n",
       "      <td>5000.0</td>\n",
       "      <td>1667.0</td>\n",
       "      <td>5.0</td>\n",
       "      <td>NaN</td>\n",
       "      <td>378.0</td>\n",
       "      <td>11.0</td>\n",
       "      <td>5.0</td>\n",
       "      <td>NaN</td>\n",
       "      <td>NaN</td>\n",
       "      <td>NO</td>\n",
       "      <td>42</td>\n",
       "      <td>On-net 1000F=10MilF;10d</td>\n",
       "      <td>5.0</td>\n",
       "    </tr>\n",
       "    <tr>\n",
       "      <th>1</th>\n",
       "      <td>000055d41c8a62052dd426592e8a4a3342bf565d</td>\n",
       "      <td>NaN</td>\n",
       "      <td>I 18-21 month</td>\n",
       "      <td>300.0</td>\n",
       "      <td>2.0</td>\n",
       "      <td>326.0</td>\n",
       "      <td>109.0</td>\n",
       "      <td>3.0</td>\n",
       "      <td>397.0</td>\n",
       "      <td>NaN</td>\n",
       "      <td>0.0</td>\n",
       "      <td>NaN</td>\n",
       "      <td>NaN</td>\n",
       "      <td>NaN</td>\n",
       "      <td>NO</td>\n",
       "      <td>41</td>\n",
       "      <td>Data: 100 F=40MB,24H</td>\n",
       "      <td>1.0</td>\n",
       "    </tr>\n",
       "    <tr>\n",
       "      <th>2</th>\n",
       "      <td>000081dd3245e6869a4a9c574c7050e7bb84c2c8</td>\n",
       "      <td>DAKAR</td>\n",
       "      <td>K &gt; 24 month</td>\n",
       "      <td>3300.0</td>\n",
       "      <td>25.0</td>\n",
       "      <td>3400.0</td>\n",
       "      <td>1133.0</td>\n",
       "      <td>26.0</td>\n",
       "      <td>7150.0</td>\n",
       "      <td>0.0</td>\n",
       "      <td>2.0</td>\n",
       "      <td>5.0</td>\n",
       "      <td>NaN</td>\n",
       "      <td>NaN</td>\n",
       "      <td>NO</td>\n",
       "      <td>57</td>\n",
       "      <td>Data: 100 F=40MB,24H</td>\n",
       "      <td>22.0</td>\n",
       "    </tr>\n",
       "    <tr>\n",
       "      <th>3</th>\n",
       "      <td>0000b76d2145d9445d9ff6b65c9ebc4196c89337</td>\n",
       "      <td>NaN</td>\n",
       "      <td>K &gt; 24 month</td>\n",
       "      <td>NaN</td>\n",
       "      <td>NaN</td>\n",
       "      <td>NaN</td>\n",
       "      <td>NaN</td>\n",
       "      <td>NaN</td>\n",
       "      <td>NaN</td>\n",
       "      <td>NaN</td>\n",
       "      <td>NaN</td>\n",
       "      <td>NaN</td>\n",
       "      <td>NaN</td>\n",
       "      <td>NaN</td>\n",
       "      <td>NO</td>\n",
       "      <td>9</td>\n",
       "      <td>NaN</td>\n",
       "      <td>NaN</td>\n",
       "    </tr>\n",
       "    <tr>\n",
       "      <th>4</th>\n",
       "      <td>0000bae5480628cf8fe51ad84bcb39772fc79224</td>\n",
       "      <td>NaN</td>\n",
       "      <td>K &gt; 24 month</td>\n",
       "      <td>NaN</td>\n",
       "      <td>NaN</td>\n",
       "      <td>NaN</td>\n",
       "      <td>NaN</td>\n",
       "      <td>NaN</td>\n",
       "      <td>NaN</td>\n",
       "      <td>NaN</td>\n",
       "      <td>NaN</td>\n",
       "      <td>NaN</td>\n",
       "      <td>NaN</td>\n",
       "      <td>NaN</td>\n",
       "      <td>NO</td>\n",
       "      <td>10</td>\n",
       "      <td>NaN</td>\n",
       "      <td>NaN</td>\n",
       "    </tr>\n",
       "  </tbody>\n",
       "</table>\n",
       "</div>"
      ],
      "text/plain": [
       "                                    user_id REGION         TENURE  MONTANT  \\\n",
       "0  00001dbe00e56fc4b1c1b65dda63de2a5ece55f9  THIES   K > 24 month   5000.0   \n",
       "1  000055d41c8a62052dd426592e8a4a3342bf565d    NaN  I 18-21 month    300.0   \n",
       "2  000081dd3245e6869a4a9c574c7050e7bb84c2c8  DAKAR   K > 24 month   3300.0   \n",
       "3  0000b76d2145d9445d9ff6b65c9ebc4196c89337    NaN   K > 24 month      NaN   \n",
       "4  0000bae5480628cf8fe51ad84bcb39772fc79224    NaN   K > 24 month      NaN   \n",
       "\n",
       "   FREQUENCE_RECH  REVENUE  ARPU_SEGMENT  FREQUENCE  DATA_VOLUME  ON_NET  \\\n",
       "0             5.0   5000.0        1667.0        5.0          NaN   378.0   \n",
       "1             2.0    326.0         109.0        3.0        397.0     NaN   \n",
       "2            25.0   3400.0        1133.0       26.0       7150.0     0.0   \n",
       "3             NaN      NaN           NaN        NaN          NaN     NaN   \n",
       "4             NaN      NaN           NaN        NaN          NaN     NaN   \n",
       "\n",
       "   ORANGE  TIGO  ZONE1  ZONE2 MRG  REGULARITY                 TOP_PACK  \\\n",
       "0    11.0   5.0    NaN    NaN  NO          42  On-net 1000F=10MilF;10d   \n",
       "1     0.0   NaN    NaN    NaN  NO          41     Data: 100 F=40MB,24H   \n",
       "2     2.0   5.0    NaN    NaN  NO          57     Data: 100 F=40MB,24H   \n",
       "3     NaN   NaN    NaN    NaN  NO           9                      NaN   \n",
       "4     NaN   NaN    NaN    NaN  NO          10                      NaN   \n",
       "\n",
       "   FREQ_TOP_PACK  \n",
       "0            5.0  \n",
       "1            1.0  \n",
       "2           22.0  \n",
       "3            NaN  \n",
       "4            NaN  "
      ]
     },
     "execution_count": 4,
     "metadata": {},
     "output_type": "execute_result"
    }
   ],
   "source": [
    "test = pd.read_csv('Test.csv')\n",
    "test.head()"
   ]
  },
  {
   "cell_type": "code",
   "execution_count": 5,
   "id": "22bc5173",
   "metadata": {},
   "outputs": [
    {
     "data": {
      "text/html": [
       "<div>\n",
       "<style scoped>\n",
       "    .dataframe tbody tr th:only-of-type {\n",
       "        vertical-align: middle;\n",
       "    }\n",
       "\n",
       "    .dataframe tbody tr th {\n",
       "        vertical-align: top;\n",
       "    }\n",
       "\n",
       "    .dataframe thead th {\n",
       "        text-align: right;\n",
       "    }\n",
       "</style>\n",
       "<table border=\"1\" class=\"dataframe\">\n",
       "  <thead>\n",
       "    <tr style=\"text-align: right;\">\n",
       "      <th></th>\n",
       "      <th>user_id</th>\n",
       "      <th>CHURN</th>\n",
       "    </tr>\n",
       "  </thead>\n",
       "  <tbody>\n",
       "    <tr>\n",
       "      <th>0</th>\n",
       "      <td>00001dbe00e56fc4b1c1b65dda63de2a5ece55f9</td>\n",
       "      <td>0</td>\n",
       "    </tr>\n",
       "    <tr>\n",
       "      <th>1</th>\n",
       "      <td>000055d41c8a62052dd426592e8a4a3342bf565d</td>\n",
       "      <td>0</td>\n",
       "    </tr>\n",
       "    <tr>\n",
       "      <th>2</th>\n",
       "      <td>000081dd3245e6869a4a9c574c7050e7bb84c2c8</td>\n",
       "      <td>0</td>\n",
       "    </tr>\n",
       "    <tr>\n",
       "      <th>3</th>\n",
       "      <td>0000b76d2145d9445d9ff6b65c9ebc4196c89337</td>\n",
       "      <td>0</td>\n",
       "    </tr>\n",
       "    <tr>\n",
       "      <th>4</th>\n",
       "      <td>0000bae5480628cf8fe51ad84bcb39772fc79224</td>\n",
       "      <td>0</td>\n",
       "    </tr>\n",
       "  </tbody>\n",
       "</table>\n",
       "</div>"
      ],
      "text/plain": [
       "                                    user_id  CHURN\n",
       "0  00001dbe00e56fc4b1c1b65dda63de2a5ece55f9      0\n",
       "1  000055d41c8a62052dd426592e8a4a3342bf565d      0\n",
       "2  000081dd3245e6869a4a9c574c7050e7bb84c2c8      0\n",
       "3  0000b76d2145d9445d9ff6b65c9ebc4196c89337      0\n",
       "4  0000bae5480628cf8fe51ad84bcb39772fc79224      0"
      ]
     },
     "execution_count": 5,
     "metadata": {},
     "output_type": "execute_result"
    }
   ],
   "source": [
    "sample = pd.read_csv('SampleSubmission.csv')\n",
    "sample.head()"
   ]
  },
  {
   "cell_type": "markdown",
   "id": "a4de4e39",
   "metadata": {},
   "source": [
    "__Sizes of the dataframes.__"
   ]
  },
  {
   "cell_type": "code",
   "execution_count": 6,
   "id": "fb921d27",
   "metadata": {},
   "outputs": [
    {
     "name": "stdout",
     "output_type": "stream",
     "text": [
      "(2154048, 19)\n",
      "(380127, 18)\n",
      "(380127, 2)\n"
     ]
    }
   ],
   "source": [
    "print(train.shape)\n",
    "print(test.shape)\n",
    "print(sample.shape)"
   ]
  },
  {
   "cell_type": "markdown",
   "id": "bdb6cc7d",
   "metadata": {},
   "source": [
    "Change column names to lowercase."
   ]
  },
  {
   "cell_type": "code",
   "execution_count": 7,
   "id": "d8da06da",
   "metadata": {},
   "outputs": [],
   "source": [
    "train = train.rename(columns=str.lower)\n",
    "test = test.rename(columns=str.lower)\n",
    "sample = sample.rename(columns=str.lower)"
   ]
  },
  {
   "cell_type": "code",
   "execution_count": 8,
   "id": "73ceba79",
   "metadata": {},
   "outputs": [
    {
     "data": {
      "text/plain": [
       "0    380127\n",
       "Name: churn, dtype: int64"
      ]
     },
     "execution_count": 8,
     "metadata": {},
     "output_type": "execute_result"
    }
   ],
   "source": [
    "sample.churn.value_counts()"
   ]
  },
  {
   "cell_type": "markdown",
   "id": "8df5e2b6",
   "metadata": {},
   "source": [
    "As we can see from the above, in 'sample' dataset all of the values for churn is 0. If all the target values in our test dataset will be 0, that wouldn't make any sense. That is why, we need to merge all these dataframes. Merge will be done by 'user_id'."
   ]
  },
  {
   "cell_type": "code",
   "execution_count": 9,
   "id": "90173306",
   "metadata": {},
   "outputs": [
    {
     "data": {
      "text/html": [
       "<div>\n",
       "<style scoped>\n",
       "    .dataframe tbody tr th:only-of-type {\n",
       "        vertical-align: middle;\n",
       "    }\n",
       "\n",
       "    .dataframe tbody tr th {\n",
       "        vertical-align: top;\n",
       "    }\n",
       "\n",
       "    .dataframe thead th {\n",
       "        text-align: right;\n",
       "    }\n",
       "</style>\n",
       "<table border=\"1\" class=\"dataframe\">\n",
       "  <thead>\n",
       "    <tr style=\"text-align: right;\">\n",
       "      <th></th>\n",
       "      <th>user_id</th>\n",
       "      <th>region</th>\n",
       "      <th>tenure</th>\n",
       "      <th>montant</th>\n",
       "      <th>frequence_rech</th>\n",
       "      <th>revenue</th>\n",
       "      <th>arpu_segment</th>\n",
       "      <th>frequence</th>\n",
       "      <th>data_volume</th>\n",
       "      <th>on_net</th>\n",
       "      <th>orange</th>\n",
       "      <th>tigo</th>\n",
       "      <th>zone1</th>\n",
       "      <th>zone2</th>\n",
       "      <th>mrg</th>\n",
       "      <th>regularity</th>\n",
       "      <th>top_pack</th>\n",
       "      <th>freq_top_pack</th>\n",
       "      <th>churn</th>\n",
       "    </tr>\n",
       "  </thead>\n",
       "  <tbody>\n",
       "    <tr>\n",
       "      <th>0</th>\n",
       "      <td>00001dbe00e56fc4b1c1b65dda63de2a5ece55f9</td>\n",
       "      <td>THIES</td>\n",
       "      <td>K &gt; 24 month</td>\n",
       "      <td>5000.0</td>\n",
       "      <td>5.0</td>\n",
       "      <td>5000.0</td>\n",
       "      <td>1667.0</td>\n",
       "      <td>5.0</td>\n",
       "      <td>NaN</td>\n",
       "      <td>378.0</td>\n",
       "      <td>11.0</td>\n",
       "      <td>5.0</td>\n",
       "      <td>NaN</td>\n",
       "      <td>NaN</td>\n",
       "      <td>NO</td>\n",
       "      <td>42</td>\n",
       "      <td>On-net 1000F=10MilF;10d</td>\n",
       "      <td>5.0</td>\n",
       "      <td>0</td>\n",
       "    </tr>\n",
       "    <tr>\n",
       "      <th>1</th>\n",
       "      <td>000055d41c8a62052dd426592e8a4a3342bf565d</td>\n",
       "      <td>NaN</td>\n",
       "      <td>I 18-21 month</td>\n",
       "      <td>300.0</td>\n",
       "      <td>2.0</td>\n",
       "      <td>326.0</td>\n",
       "      <td>109.0</td>\n",
       "      <td>3.0</td>\n",
       "      <td>397.0</td>\n",
       "      <td>NaN</td>\n",
       "      <td>0.0</td>\n",
       "      <td>NaN</td>\n",
       "      <td>NaN</td>\n",
       "      <td>NaN</td>\n",
       "      <td>NO</td>\n",
       "      <td>41</td>\n",
       "      <td>Data: 100 F=40MB,24H</td>\n",
       "      <td>1.0</td>\n",
       "      <td>0</td>\n",
       "    </tr>\n",
       "    <tr>\n",
       "      <th>2</th>\n",
       "      <td>000081dd3245e6869a4a9c574c7050e7bb84c2c8</td>\n",
       "      <td>DAKAR</td>\n",
       "      <td>K &gt; 24 month</td>\n",
       "      <td>3300.0</td>\n",
       "      <td>25.0</td>\n",
       "      <td>3400.0</td>\n",
       "      <td>1133.0</td>\n",
       "      <td>26.0</td>\n",
       "      <td>7150.0</td>\n",
       "      <td>0.0</td>\n",
       "      <td>2.0</td>\n",
       "      <td>5.0</td>\n",
       "      <td>NaN</td>\n",
       "      <td>NaN</td>\n",
       "      <td>NO</td>\n",
       "      <td>57</td>\n",
       "      <td>Data: 100 F=40MB,24H</td>\n",
       "      <td>22.0</td>\n",
       "      <td>0</td>\n",
       "    </tr>\n",
       "    <tr>\n",
       "      <th>3</th>\n",
       "      <td>0000b76d2145d9445d9ff6b65c9ebc4196c89337</td>\n",
       "      <td>NaN</td>\n",
       "      <td>K &gt; 24 month</td>\n",
       "      <td>NaN</td>\n",
       "      <td>NaN</td>\n",
       "      <td>NaN</td>\n",
       "      <td>NaN</td>\n",
       "      <td>NaN</td>\n",
       "      <td>NaN</td>\n",
       "      <td>NaN</td>\n",
       "      <td>NaN</td>\n",
       "      <td>NaN</td>\n",
       "      <td>NaN</td>\n",
       "      <td>NaN</td>\n",
       "      <td>NO</td>\n",
       "      <td>9</td>\n",
       "      <td>NaN</td>\n",
       "      <td>NaN</td>\n",
       "      <td>0</td>\n",
       "    </tr>\n",
       "    <tr>\n",
       "      <th>4</th>\n",
       "      <td>0000bae5480628cf8fe51ad84bcb39772fc79224</td>\n",
       "      <td>NaN</td>\n",
       "      <td>K &gt; 24 month</td>\n",
       "      <td>NaN</td>\n",
       "      <td>NaN</td>\n",
       "      <td>NaN</td>\n",
       "      <td>NaN</td>\n",
       "      <td>NaN</td>\n",
       "      <td>NaN</td>\n",
       "      <td>NaN</td>\n",
       "      <td>NaN</td>\n",
       "      <td>NaN</td>\n",
       "      <td>NaN</td>\n",
       "      <td>NaN</td>\n",
       "      <td>NO</td>\n",
       "      <td>10</td>\n",
       "      <td>NaN</td>\n",
       "      <td>NaN</td>\n",
       "      <td>0</td>\n",
       "    </tr>\n",
       "  </tbody>\n",
       "</table>\n",
       "</div>"
      ],
      "text/plain": [
       "                                    user_id region         tenure  montant  \\\n",
       "0  00001dbe00e56fc4b1c1b65dda63de2a5ece55f9  THIES   K > 24 month   5000.0   \n",
       "1  000055d41c8a62052dd426592e8a4a3342bf565d    NaN  I 18-21 month    300.0   \n",
       "2  000081dd3245e6869a4a9c574c7050e7bb84c2c8  DAKAR   K > 24 month   3300.0   \n",
       "3  0000b76d2145d9445d9ff6b65c9ebc4196c89337    NaN   K > 24 month      NaN   \n",
       "4  0000bae5480628cf8fe51ad84bcb39772fc79224    NaN   K > 24 month      NaN   \n",
       "\n",
       "   frequence_rech  revenue  arpu_segment  frequence  data_volume  on_net  \\\n",
       "0             5.0   5000.0        1667.0        5.0          NaN   378.0   \n",
       "1             2.0    326.0         109.0        3.0        397.0     NaN   \n",
       "2            25.0   3400.0        1133.0       26.0       7150.0     0.0   \n",
       "3             NaN      NaN           NaN        NaN          NaN     NaN   \n",
       "4             NaN      NaN           NaN        NaN          NaN     NaN   \n",
       "\n",
       "   orange  tigo  zone1  zone2 mrg  regularity                 top_pack  \\\n",
       "0    11.0   5.0    NaN    NaN  NO          42  On-net 1000F=10MilF;10d   \n",
       "1     0.0   NaN    NaN    NaN  NO          41     Data: 100 F=40MB,24H   \n",
       "2     2.0   5.0    NaN    NaN  NO          57     Data: 100 F=40MB,24H   \n",
       "3     NaN   NaN    NaN    NaN  NO           9                      NaN   \n",
       "4     NaN   NaN    NaN    NaN  NO          10                      NaN   \n",
       "\n",
       "   freq_top_pack  churn  \n",
       "0            5.0      0  \n",
       "1            1.0      0  \n",
       "2           22.0      0  \n",
       "3            NaN      0  \n",
       "4            NaN      0  "
      ]
     },
     "execution_count": 9,
     "metadata": {},
     "output_type": "execute_result"
    }
   ],
   "source": [
    "df1 = pd.merge(test, sample, on=\"user_id\")\n",
    "df1.head()"
   ]
  },
  {
   "cell_type": "markdown",
   "id": "49849d61",
   "metadata": {},
   "source": [
    "Concatenate two tables."
   ]
  },
  {
   "cell_type": "code",
   "execution_count": 10,
   "id": "0500f000",
   "metadata": {
    "scrolled": true
   },
   "outputs": [
    {
     "data": {
      "text/html": [
       "<div>\n",
       "<style scoped>\n",
       "    .dataframe tbody tr th:only-of-type {\n",
       "        vertical-align: middle;\n",
       "    }\n",
       "\n",
       "    .dataframe tbody tr th {\n",
       "        vertical-align: top;\n",
       "    }\n",
       "\n",
       "    .dataframe thead th {\n",
       "        text-align: right;\n",
       "    }\n",
       "</style>\n",
       "<table border=\"1\" class=\"dataframe\">\n",
       "  <thead>\n",
       "    <tr style=\"text-align: right;\">\n",
       "      <th></th>\n",
       "      <th>user_id</th>\n",
       "      <th>region</th>\n",
       "      <th>tenure</th>\n",
       "      <th>montant</th>\n",
       "      <th>frequence_rech</th>\n",
       "      <th>revenue</th>\n",
       "      <th>arpu_segment</th>\n",
       "      <th>frequence</th>\n",
       "      <th>data_volume</th>\n",
       "      <th>on_net</th>\n",
       "      <th>orange</th>\n",
       "      <th>tigo</th>\n",
       "      <th>zone1</th>\n",
       "      <th>zone2</th>\n",
       "      <th>mrg</th>\n",
       "      <th>regularity</th>\n",
       "      <th>top_pack</th>\n",
       "      <th>freq_top_pack</th>\n",
       "      <th>churn</th>\n",
       "    </tr>\n",
       "  </thead>\n",
       "  <tbody>\n",
       "    <tr>\n",
       "      <th>0</th>\n",
       "      <td>00000bfd7d50f01092811bc0c8d7b0d6fe7c3596</td>\n",
       "      <td>FATICK</td>\n",
       "      <td>K &gt; 24 month</td>\n",
       "      <td>4250.0</td>\n",
       "      <td>15.0</td>\n",
       "      <td>4251.0</td>\n",
       "      <td>1417.0</td>\n",
       "      <td>17.0</td>\n",
       "      <td>4.0</td>\n",
       "      <td>388.0</td>\n",
       "      <td>46.0</td>\n",
       "      <td>1.0</td>\n",
       "      <td>1.0</td>\n",
       "      <td>2.0</td>\n",
       "      <td>NO</td>\n",
       "      <td>54</td>\n",
       "      <td>On net 200F=Unlimited _call24H</td>\n",
       "      <td>8.0</td>\n",
       "      <td>0</td>\n",
       "    </tr>\n",
       "    <tr>\n",
       "      <th>1</th>\n",
       "      <td>00000cb4a5d760de88fecb38e2f71b7bec52e834</td>\n",
       "      <td>NaN</td>\n",
       "      <td>I 18-21 month</td>\n",
       "      <td>NaN</td>\n",
       "      <td>NaN</td>\n",
       "      <td>NaN</td>\n",
       "      <td>NaN</td>\n",
       "      <td>NaN</td>\n",
       "      <td>NaN</td>\n",
       "      <td>NaN</td>\n",
       "      <td>NaN</td>\n",
       "      <td>NaN</td>\n",
       "      <td>NaN</td>\n",
       "      <td>NaN</td>\n",
       "      <td>NO</td>\n",
       "      <td>4</td>\n",
       "      <td>NaN</td>\n",
       "      <td>NaN</td>\n",
       "      <td>1</td>\n",
       "    </tr>\n",
       "    <tr>\n",
       "      <th>2</th>\n",
       "      <td>00001654a9d9f96303d9969d0a4a851714a4bb57</td>\n",
       "      <td>NaN</td>\n",
       "      <td>K &gt; 24 month</td>\n",
       "      <td>3600.0</td>\n",
       "      <td>2.0</td>\n",
       "      <td>1020.0</td>\n",
       "      <td>340.0</td>\n",
       "      <td>2.0</td>\n",
       "      <td>NaN</td>\n",
       "      <td>90.0</td>\n",
       "      <td>46.0</td>\n",
       "      <td>7.0</td>\n",
       "      <td>NaN</td>\n",
       "      <td>NaN</td>\n",
       "      <td>NO</td>\n",
       "      <td>17</td>\n",
       "      <td>On-net 1000F=10MilF;10d</td>\n",
       "      <td>1.0</td>\n",
       "      <td>0</td>\n",
       "    </tr>\n",
       "    <tr>\n",
       "      <th>3</th>\n",
       "      <td>00001dd6fa45f7ba044bd5d84937be464ce78ac2</td>\n",
       "      <td>DAKAR</td>\n",
       "      <td>K &gt; 24 month</td>\n",
       "      <td>13500.0</td>\n",
       "      <td>15.0</td>\n",
       "      <td>13502.0</td>\n",
       "      <td>4501.0</td>\n",
       "      <td>18.0</td>\n",
       "      <td>43804.0</td>\n",
       "      <td>41.0</td>\n",
       "      <td>102.0</td>\n",
       "      <td>2.0</td>\n",
       "      <td>NaN</td>\n",
       "      <td>NaN</td>\n",
       "      <td>NO</td>\n",
       "      <td>62</td>\n",
       "      <td>Data:1000F=5GB,7d</td>\n",
       "      <td>11.0</td>\n",
       "      <td>0</td>\n",
       "    </tr>\n",
       "    <tr>\n",
       "      <th>4</th>\n",
       "      <td>000028d9e13a595abe061f9b58f3d76ab907850f</td>\n",
       "      <td>DAKAR</td>\n",
       "      <td>K &gt; 24 month</td>\n",
       "      <td>1000.0</td>\n",
       "      <td>1.0</td>\n",
       "      <td>985.0</td>\n",
       "      <td>328.0</td>\n",
       "      <td>1.0</td>\n",
       "      <td>NaN</td>\n",
       "      <td>39.0</td>\n",
       "      <td>24.0</td>\n",
       "      <td>NaN</td>\n",
       "      <td>NaN</td>\n",
       "      <td>NaN</td>\n",
       "      <td>NO</td>\n",
       "      <td>11</td>\n",
       "      <td>Mixt 250F=Unlimited_call24H</td>\n",
       "      <td>2.0</td>\n",
       "      <td>0</td>\n",
       "    </tr>\n",
       "  </tbody>\n",
       "</table>\n",
       "</div>"
      ],
      "text/plain": [
       "                                    user_id  region         tenure  montant  \\\n",
       "0  00000bfd7d50f01092811bc0c8d7b0d6fe7c3596  FATICK   K > 24 month   4250.0   \n",
       "1  00000cb4a5d760de88fecb38e2f71b7bec52e834     NaN  I 18-21 month      NaN   \n",
       "2  00001654a9d9f96303d9969d0a4a851714a4bb57     NaN   K > 24 month   3600.0   \n",
       "3  00001dd6fa45f7ba044bd5d84937be464ce78ac2   DAKAR   K > 24 month  13500.0   \n",
       "4  000028d9e13a595abe061f9b58f3d76ab907850f   DAKAR   K > 24 month   1000.0   \n",
       "\n",
       "   frequence_rech  revenue  arpu_segment  frequence  data_volume  on_net  \\\n",
       "0            15.0   4251.0        1417.0       17.0          4.0   388.0   \n",
       "1             NaN      NaN           NaN        NaN          NaN     NaN   \n",
       "2             2.0   1020.0         340.0        2.0          NaN    90.0   \n",
       "3            15.0  13502.0        4501.0       18.0      43804.0    41.0   \n",
       "4             1.0    985.0         328.0        1.0          NaN    39.0   \n",
       "\n",
       "   orange  tigo  zone1  zone2 mrg  regularity                        top_pack  \\\n",
       "0    46.0   1.0    1.0    2.0  NO          54  On net 200F=Unlimited _call24H   \n",
       "1     NaN   NaN    NaN    NaN  NO           4                             NaN   \n",
       "2    46.0   7.0    NaN    NaN  NO          17         On-net 1000F=10MilF;10d   \n",
       "3   102.0   2.0    NaN    NaN  NO          62               Data:1000F=5GB,7d   \n",
       "4    24.0   NaN    NaN    NaN  NO          11     Mixt 250F=Unlimited_call24H   \n",
       "\n",
       "   freq_top_pack  churn  \n",
       "0            8.0      0  \n",
       "1            NaN      1  \n",
       "2            1.0      0  \n",
       "3           11.0      0  \n",
       "4            2.0      0  "
      ]
     },
     "execution_count": 10,
     "metadata": {},
     "output_type": "execute_result"
    }
   ],
   "source": [
    "frames = [train, df1]\n",
    "data = pd.concat(frames)\n",
    "data.head()"
   ]
  },
  {
   "cell_type": "markdown",
   "id": "1f62fe63",
   "metadata": {},
   "source": [
    "Sizes of our final dataset."
   ]
  },
  {
   "cell_type": "code",
   "execution_count": 11,
   "id": "83d786a4",
   "metadata": {},
   "outputs": [
    {
     "data": {
      "text/plain": [
       "(2534175, 19)"
      ]
     },
     "execution_count": 11,
     "metadata": {},
     "output_type": "execute_result"
    }
   ],
   "source": [
    "data.shape"
   ]
  },
  {
   "cell_type": "markdown",
   "id": "3da214f8",
   "metadata": {},
   "source": [
    "Checking for null values in the dataset."
   ]
  },
  {
   "cell_type": "code",
   "execution_count": 12,
   "id": "0e7a3722",
   "metadata": {},
   "outputs": [
    {
     "data": {
      "text/plain": [
       "user_id                 0\n",
       "region             999027\n",
       "tenure                  0\n",
       "montant            889794\n",
       "frequence_rech     889794\n",
       "revenue            853421\n",
       "arpu_segment       853421\n",
       "frequence          853421\n",
       "data_volume       1247473\n",
       "on_net             925189\n",
       "orange            1052478\n",
       "tigo              1517017\n",
       "zone1             2334593\n",
       "zone2             2373275\n",
       "mrg                     0\n",
       "regularity              0\n",
       "top_pack          1061373\n",
       "freq_top_pack     1061373\n",
       "churn                   0\n",
       "dtype: int64"
      ]
     },
     "execution_count": 12,
     "metadata": {},
     "output_type": "execute_result"
    }
   ],
   "source": [
    "data.isnull().sum()"
   ]
  },
  {
   "cell_type": "code",
   "execution_count": 13,
   "id": "8b7beff7",
   "metadata": {},
   "outputs": [],
   "source": [
    "# x = data.churn.value_counts().values\n",
    "# sns.barplot([0,1], x).set_title('Target variable count');\n",
    "# plt.title('Target variable count')"
   ]
  },
  {
   "cell_type": "markdown",
   "id": "478b1899",
   "metadata": {},
   "source": [
    "## Checking for Imbalance"
   ]
  },
  {
   "cell_type": "code",
   "execution_count": 14,
   "id": "1df7494d",
   "metadata": {},
   "outputs": [
    {
     "data": {
      "text/plain": [
       "0    2130189\n",
       "1     403986\n",
       "Name: churn, dtype: int64"
      ]
     },
     "execution_count": 14,
     "metadata": {},
     "output_type": "execute_result"
    }
   ],
   "source": [
    "data.churn.value_counts()"
   ]
  },
  {
   "cell_type": "code",
   "execution_count": 15,
   "id": "d5139c5e",
   "metadata": {},
   "outputs": [
    {
     "data": {
      "image/png": "[encoded data removed]",
      "text/plain": [
       "<Figure size 432x288 with 1 Axes>"
      ]
     },
     "metadata": {},
     "output_type": "display_data"
    }
   ],
   "source": [
    "size = data.churn.value_counts()\n",
    "labels = data.churn.value_counts().index\n",
    "label=['No', 'Yes']\n",
    "y = np.array(size)\n",
    "\n",
    "colors = sns.color_palette('pastel')[0:2]\n",
    "plt.pie(size, labels = labels, colors = colors, autopct='%.0f%%')\n",
    "plt.legend(label)\n",
    "plt.title('Churn (Target) Distribution', fontsize=15)\n",
    "plt.show()"
   ]
  },
  {
   "cell_type": "markdown",
   "id": "ce7d9e84",
   "metadata": {},
   "source": [
    "## [models](https://www.kaggle.com/code/yasserhessein/airline-passenger-eda-7-algorithms-accuracy97)<br>\n",
    "## [telecom project](https://www.kaggle.com/code/semihizinli/churn-telecom-project#3-|-Basic-Data-Analysis)"
   ]
  },
  {
   "cell_type": "markdown",
   "id": "ce96171a",
   "metadata": {},
   "source": [
    "## Missing values"
   ]
  },
  {
   "cell_type": "code",
   "execution_count": 16,
   "id": "defba1cd",
   "metadata": {},
   "outputs": [
    {
     "data": {
      "text/html": [
       "<div>\n",
       "<style scoped>\n",
       "    .dataframe tbody tr th:only-of-type {\n",
       "        vertical-align: middle;\n",
       "    }\n",
       "\n",
       "    .dataframe tbody tr th {\n",
       "        vertical-align: top;\n",
       "    }\n",
       "\n",
       "    .dataframe thead th {\n",
       "        text-align: right;\n",
       "    }\n",
       "</style>\n",
       "<table border=\"1\" class=\"dataframe\">\n",
       "  <thead>\n",
       "    <tr style=\"text-align: right;\">\n",
       "      <th></th>\n",
       "      <th>missing values number</th>\n",
       "      <th>% of missing data</th>\n",
       "    </tr>\n",
       "  </thead>\n",
       "  <tbody>\n",
       "    <tr>\n",
       "      <th>zone2</th>\n",
       "      <td>2373275</td>\n",
       "      <td>93.650794</td>\n",
       "    </tr>\n",
       "    <tr>\n",
       "      <th>zone1</th>\n",
       "      <td>2334593</td>\n",
       "      <td>92.124380</td>\n",
       "    </tr>\n",
       "    <tr>\n",
       "      <th>tigo</th>\n",
       "      <td>1517017</td>\n",
       "      <td>59.862362</td>\n",
       "    </tr>\n",
       "    <tr>\n",
       "      <th>data_volume</th>\n",
       "      <td>1247473</td>\n",
       "      <td>49.226001</td>\n",
       "    </tr>\n",
       "    <tr>\n",
       "      <th>freq_top_pack</th>\n",
       "      <td>1061373</td>\n",
       "      <td>41.882388</td>\n",
       "    </tr>\n",
       "    <tr>\n",
       "      <th>top_pack</th>\n",
       "      <td>1061373</td>\n",
       "      <td>41.882388</td>\n",
       "    </tr>\n",
       "    <tr>\n",
       "      <th>orange</th>\n",
       "      <td>1052478</td>\n",
       "      <td>41.531386</td>\n",
       "    </tr>\n",
       "    <tr>\n",
       "      <th>region</th>\n",
       "      <td>999027</td>\n",
       "      <td>39.422179</td>\n",
       "    </tr>\n",
       "    <tr>\n",
       "      <th>on_net</th>\n",
       "      <td>925189</td>\n",
       "      <td>36.508489</td>\n",
       "    </tr>\n",
       "    <tr>\n",
       "      <th>montant</th>\n",
       "      <td>889794</td>\n",
       "      <td>35.111782</td>\n",
       "    </tr>\n",
       "    <tr>\n",
       "      <th>frequence_rech</th>\n",
       "      <td>889794</td>\n",
       "      <td>35.111782</td>\n",
       "    </tr>\n",
       "    <tr>\n",
       "      <th>revenue</th>\n",
       "      <td>853421</td>\n",
       "      <td>33.676482</td>\n",
       "    </tr>\n",
       "    <tr>\n",
       "      <th>arpu_segment</th>\n",
       "      <td>853421</td>\n",
       "      <td>33.676482</td>\n",
       "    </tr>\n",
       "    <tr>\n",
       "      <th>frequence</th>\n",
       "      <td>853421</td>\n",
       "      <td>33.676482</td>\n",
       "    </tr>\n",
       "    <tr>\n",
       "      <th>regularity</th>\n",
       "      <td>0</td>\n",
       "      <td>0.000000</td>\n",
       "    </tr>\n",
       "    <tr>\n",
       "      <th>user_id</th>\n",
       "      <td>0</td>\n",
       "      <td>0.000000</td>\n",
       "    </tr>\n",
       "    <tr>\n",
       "      <th>mrg</th>\n",
       "      <td>0</td>\n",
       "      <td>0.000000</td>\n",
       "    </tr>\n",
       "    <tr>\n",
       "      <th>tenure</th>\n",
       "      <td>0</td>\n",
       "      <td>0.000000</td>\n",
       "    </tr>\n",
       "    <tr>\n",
       "      <th>churn</th>\n",
       "      <td>0</td>\n",
       "      <td>0.000000</td>\n",
       "    </tr>\n",
       "  </tbody>\n",
       "</table>\n",
       "</div>"
      ],
      "text/plain": [
       "                missing values number  % of missing data\n",
       "zone2                         2373275          93.650794\n",
       "zone1                         2334593          92.124380\n",
       "tigo                          1517017          59.862362\n",
       "data_volume                   1247473          49.226001\n",
       "freq_top_pack                 1061373          41.882388\n",
       "top_pack                      1061373          41.882388\n",
       "orange                        1052478          41.531386\n",
       "region                         999027          39.422179\n",
       "on_net                         925189          36.508489\n",
       "montant                        889794          35.111782\n",
       "frequence_rech                 889794          35.111782\n",
       "revenue                        853421          33.676482\n",
       "arpu_segment                   853421          33.676482\n",
       "frequence                      853421          33.676482\n",
       "regularity                          0           0.000000\n",
       "user_id                             0           0.000000\n",
       "mrg                                 0           0.000000\n",
       "tenure                              0           0.000000\n",
       "churn                               0           0.000000"
      ]
     },
     "execution_count": 16,
     "metadata": {},
     "output_type": "execute_result"
    }
   ],
   "source": [
    "# Features with missing values\n",
    "missing = data.isnull().sum().sort_values(ascending = False).head(20)\n",
    "miss_percent = (missing/len(data))*100\n",
    "\n",
    "# Percentage of missing values\n",
    "pd.DataFrame({'missing values number': missing, '% of missing data': miss_percent.values})"
   ]
  },
  {
   "cell_type": "markdown",
   "id": "9e126110",
   "metadata": {},
   "source": [
    "Installing 'missingno' package.<br>\n",
    "__missingno__ - missing data visualization module for Python."
   ]
  },
  {
   "cell_type": "code",
   "execution_count": 17,
   "id": "e8eca021",
   "metadata": {},
   "outputs": [
    {
     "name": "stdout",
     "output_type": "stream",
     "text": [
      "Requirement already satisfied: missingno in c:\\users\\acer\\anaconda3\\lib\\site-packages (0.5.1)\n",
      "Requirement already satisfied: scipy in c:\\users\\acer\\anaconda3\\lib\\site-packages (from missingno) (1.6.2)\n",
      "Requirement already satisfied: matplotlib in c:\\users\\acer\\anaconda3\\lib\\site-packages (from missingno) (3.3.4)\n",
      "Requirement already satisfied: seaborn in c:\\users\\acer\\anaconda3\\lib\\site-packages (from missingno) (0.11.1)\n",
      "Requirement already satisfied: numpy in c:\\users\\acer\\anaconda3\\lib\\site-packages (from missingno) (1.22.3)\n",
      "Requirement already satisfied: python-dateutil>=2.1 in c:\\users\\acer\\anaconda3\\lib\\site-packages (from matplotlib->missingno) (2.8.1)\n",
      "Requirement already satisfied: cycler>=0.10 in c:\\users\\acer\\anaconda3\\lib\\site-packages (from matplotlib->missingno) (0.10.0)\n",
      "Requirement already satisfied: pyparsing!=2.0.4,!=2.1.2,!=2.1.6,>=2.0.3 in c:\\users\\acer\\anaconda3\\lib\\site-packages (from matplotlib->missingno) (2.4.7)\n",
      "Requirement already satisfied: kiwisolver>=1.0.1 in c:\\users\\acer\\anaconda3\\lib\\site-packages (from matplotlib->missingno) (1.3.1)\n",
      "Requirement already satisfied: pillow>=6.2.0 in c:\\users\\acer\\anaconda3\\lib\\site-packages (from matplotlib->missingno) (8.2.0)\n",
      "Requirement already satisfied: six in c:\\users\\acer\\anaconda3\\lib\\site-packages (from cycler>=0.10->matplotlib->missingno) (1.15.0)\n",
      "Requirement already satisfied: pandas>=0.23 in c:\\users\\acer\\anaconda3\\lib\\site-packages (from seaborn->missingno) (1.2.4)\n",
      "Requirement already satisfied: pytz>=2017.3 in c:\\users\\acer\\anaconda3\\lib\\site-packages (from pandas>=0.23->seaborn->missingno) (2021.1)\n",
      "Note: you may need to restart the kernel to use updated packages.\n"
     ]
    }
   ],
   "source": [
    "pip install missingno"
   ]
  },
  {
   "cell_type": "code",
   "execution_count": 18,
   "id": "c84a5f64",
   "metadata": {},
   "outputs": [
    {
     "data": {
      "text/plain": [
       "<AxesSubplot:>"
      ]
     },
     "execution_count": 18,
     "metadata": {},
     "output_type": "execute_result"
    },
    {
     "data": {
      "image/png": "[encoded data removed]",
      "text/plain": [
       "<Figure size 1440x432 with 2 Axes>"
      ]
     },
     "metadata": {
      "needs_background": "light"
     },
     "output_type": "display_data"
    }
   ],
   "source": [
    "import missingno as mno\n",
    "\n",
    "mno.matrix(data, figsize = (20, 6))"
   ]
  },
  {
   "cell_type": "code",
   "execution_count": 19,
   "id": "b379a132",
   "metadata": {},
   "outputs": [
    {
     "data": {
      "text/plain": [
       "<AxesSubplot:>"
      ]
     },
     "execution_count": 19,
     "metadata": {},
     "output_type": "execute_result"
    },
    {
     "data": {
      "image/png": "[encoded data removed]",
      "text/plain": [
       "<Figure size 1800x720 with 3 Axes>"
      ]
     },
     "metadata": {
      "needs_background": "light"
     },
     "output_type": "display_data"
    }
   ],
   "source": [
    "mno.bar(data)"
   ]
  },
  {
   "cell_type": "code",
   "execution_count": 20,
   "id": "59f98fce",
   "metadata": {},
   "outputs": [
    {
     "data": {
      "text/plain": [
       "<AxesSubplot:>"
      ]
     },
     "execution_count": 20,
     "metadata": {},
     "output_type": "execute_result"
    },
    {
     "data": {
      "image/png": "[encoded data removed]",
      "text/plain": [
       "<Figure size 1440x864 with 2 Axes>"
      ]
     },
     "metadata": {
      "needs_background": "light"
     },
     "output_type": "display_data"
    }
   ],
   "source": [
    "mno.heatmap(data)"
   ]
  },
  {
   "cell_type": "markdown",
   "id": "14d49cc5",
   "metadata": {},
   "source": [
    "The __heatmap function__ shows that there are strong correlations between missing values of different features. <br>\n",
    "Low correlations indicate that the data are MAR(Missing at random)."
   ]
  },
  {
   "cell_type": "code",
   "execution_count": 21,
   "id": "01f42743",
   "metadata": {},
   "outputs": [
    {
     "data": {
      "text/plain": [
       "<AxesSubplot:>"
      ]
     },
     "execution_count": 21,
     "metadata": {},
     "output_type": "execute_result"
    },
    {
     "data": {
      "image/png": "[encoded data removed]",
      "text/plain": [
       "<Figure size 1800x720 with 1 Axes>"
      ]
     },
     "metadata": {
      "needs_background": "light"
     },
     "output_type": "display_data"
    }
   ],
   "source": [
    "mno.dendrogram(data)"
   ]
  },
  {
   "cell_type": "markdown",
   "id": "6be12888",
   "metadata": {},
   "source": [
    "- Cluster leaves which linked together at a distance of zero fully predict one another's presence—one variable might always be empty when another is filled, or they might always both be filled or both empty, and so on(missingno documentation)\n",
    "- The missingness of __'on_net'__ tends to be more similar to __'orange'__ than to __'region'__ and so on. "
   ]
  },
  {
   "cell_type": "code",
   "execution_count": 22,
   "id": "d199dc45",
   "metadata": {},
   "outputs": [
    {
     "data": {
      "text/plain": [
       "(1680754, 19)"
      ]
     },
     "execution_count": 22,
     "metadata": {},
     "output_type": "execute_result"
    }
   ],
   "source": [
    "# dropping these 3 columns, because absense in these columns is correlated with absense in other columns\n",
    "data.dropna(subset=['arpu_segment', 'revenue', 'frequence'], how = 'all', inplace=True)\n",
    "data.shape"
   ]
  },
  {
   "cell_type": "code",
   "execution_count": 23,
   "id": "df546987",
   "metadata": {},
   "outputs": [
    {
     "data": {
      "text/plain": [
       "user_id                 0\n",
       "region             376770\n",
       "tenure                  0\n",
       "montant             62467\n",
       "frequence_rech      62467\n",
       "revenue                 0\n",
       "arpu_segment            0\n",
       "frequence               0\n",
       "data_volume        566680\n",
       "on_net             204695\n",
       "orange             216149\n",
       "tigo               671367\n",
       "zone1             1488440\n",
       "zone2             1520352\n",
       "mrg                     0\n",
       "regularity              0\n",
       "top_pack           208033\n",
       "freq_top_pack      208033\n",
       "churn                   0\n",
       "dtype: int64"
      ]
     },
     "execution_count": 23,
     "metadata": {},
     "output_type": "execute_result"
    }
   ],
   "source": [
    "data.isnull().sum()"
   ]
  },
  {
   "cell_type": "code",
   "execution_count": 24,
   "id": "c8ab27da",
   "metadata": {},
   "outputs": [
    {
     "data": {
      "text/plain": [
       "<AxesSubplot:>"
      ]
     },
     "execution_count": 24,
     "metadata": {},
     "output_type": "execute_result"
    },
    {
     "data": {
      "image/png": "[encoded data removed]",
      "text/plain": [
       "<Figure size 1800x720 with 3 Axes>"
      ]
     },
     "metadata": {
      "needs_background": "light"
     },
     "output_type": "display_data"
    }
   ],
   "source": [
    "mno.bar(data)"
   ]
  },
  {
   "cell_type": "code",
   "execution_count": 25,
   "id": "39287e21",
   "metadata": {},
   "outputs": [
    {
     "data": {
      "image/png": "[encoded data removed]",
      "text/plain": [
       "<Figure size 432x288 with 1 Axes>"
      ]
     },
     "metadata": {},
     "output_type": "display_data"
    },
    {
     "name": "stdout",
     "output_type": "stream",
     "text": [
      "0    1603561\n",
      "1      77193\n",
      "Name: churn, dtype: int64\n"
     ]
    }
   ],
   "source": [
    "size = data.churn.value_counts()\n",
    "labels = data.churn.value_counts().index\n",
    "label=['No', 'Yes']\n",
    "y = np.array(size)\n",
    "\n",
    "colors = sns.color_palette('pastel')[0:2]\n",
    "plt.pie(size, labels = labels, colors = colors, autopct='%.0f%%')\n",
    "plt.legend(label)\n",
    "plt.title('Churn (Target) Distribution', fontsize=15)\n",
    "plt.show()\n",
    "\n",
    "print(data.churn.value_counts())"
   ]
  },
  {
   "cell_type": "markdown",
   "id": "c010372b",
   "metadata": {},
   "source": [
    "__Comment:__ As you can see, the target imbalance percentages has changed."
   ]
  },
  {
   "cell_type": "markdown",
   "id": "95a24c03",
   "metadata": {},
   "source": [
    "Percentages of missing values in 'zone1' and 'zone2' columns are greater than 90%. For that reason, we can drop those columns.<br>\n",
    "Also 'user_id' column can be dropped, because it doesn't hold any crucial information, however we will use it later to merge tables."
   ]
  },
  {
   "cell_type": "code",
   "execution_count": 26,
   "id": "b94d1920",
   "metadata": {},
   "outputs": [],
   "source": [
    "data.drop(columns=['zone1', 'zone2'], axis=1, inplace=True)"
   ]
  },
  {
   "cell_type": "code",
   "execution_count": 27,
   "id": "1c9c12bd",
   "metadata": {},
   "outputs": [],
   "source": [
    "# import seaborn as sns\n",
    "# sns.pairplot(data)"
   ]
  },
  {
   "cell_type": "markdown",
   "id": "877c2b5e",
   "metadata": {},
   "source": [
    "## Correlation with other columns"
   ]
  },
  {
   "cell_type": "code",
   "execution_count": 28,
   "id": "bcf81500",
   "metadata": {},
   "outputs": [
    {
     "data": {
      "text/html": [
       "<div>\n",
       "<style scoped>\n",
       "    .dataframe tbody tr th:only-of-type {\n",
       "        vertical-align: middle;\n",
       "    }\n",
       "\n",
       "    .dataframe tbody tr th {\n",
       "        vertical-align: top;\n",
       "    }\n",
       "\n",
       "    .dataframe thead th {\n",
       "        text-align: right;\n",
       "    }\n",
       "</style>\n",
       "<table border=\"1\" class=\"dataframe\">\n",
       "  <thead>\n",
       "    <tr style=\"text-align: right;\">\n",
       "      <th></th>\n",
       "      <th>montant</th>\n",
       "      <th>frequence_rech</th>\n",
       "      <th>revenue</th>\n",
       "      <th>arpu_segment</th>\n",
       "      <th>frequence</th>\n",
       "      <th>data_volume</th>\n",
       "      <th>on_net</th>\n",
       "      <th>orange</th>\n",
       "      <th>tigo</th>\n",
       "      <th>regularity</th>\n",
       "      <th>freq_top_pack</th>\n",
       "      <th>churn</th>\n",
       "    </tr>\n",
       "  </thead>\n",
       "  <tbody>\n",
       "    <tr>\n",
       "      <th>montant</th>\n",
       "      <td>1.000000</td>\n",
       "      <td>0.790971</td>\n",
       "      <td>0.977077</td>\n",
       "      <td>0.977077</td>\n",
       "      <td>0.775424</td>\n",
       "      <td>0.300683</td>\n",
       "      <td>0.326491</td>\n",
       "      <td>0.658026</td>\n",
       "      <td>0.412533</td>\n",
       "      <td>0.518499</td>\n",
       "      <td>0.741025</td>\n",
       "      <td>-0.086068</td>\n",
       "    </tr>\n",
       "    <tr>\n",
       "      <th>frequence_rech</th>\n",
       "      <td>0.790971</td>\n",
       "      <td>1.000000</td>\n",
       "      <td>0.799879</td>\n",
       "      <td>0.799878</td>\n",
       "      <td>0.956089</td>\n",
       "      <td>0.152658</td>\n",
       "      <td>0.404968</td>\n",
       "      <td>0.518861</td>\n",
       "      <td>0.342987</td>\n",
       "      <td>0.552838</td>\n",
       "      <td>0.868894</td>\n",
       "      <td>-0.102603</td>\n",
       "    </tr>\n",
       "    <tr>\n",
       "      <th>revenue</th>\n",
       "      <td>0.977077</td>\n",
       "      <td>0.799879</td>\n",
       "      <td>1.000000</td>\n",
       "      <td>1.000000</td>\n",
       "      <td>0.785456</td>\n",
       "      <td>0.306957</td>\n",
       "      <td>0.331883</td>\n",
       "      <td>0.660904</td>\n",
       "      <td>0.412403</td>\n",
       "      <td>0.532010</td>\n",
       "      <td>0.750907</td>\n",
       "      <td>-0.104635</td>\n",
       "    </tr>\n",
       "    <tr>\n",
       "      <th>arpu_segment</th>\n",
       "      <td>0.977077</td>\n",
       "      <td>0.799878</td>\n",
       "      <td>1.000000</td>\n",
       "      <td>1.000000</td>\n",
       "      <td>0.785455</td>\n",
       "      <td>0.306957</td>\n",
       "      <td>0.331883</td>\n",
       "      <td>0.660905</td>\n",
       "      <td>0.412403</td>\n",
       "      <td>0.532008</td>\n",
       "      <td>0.750907</td>\n",
       "      <td>-0.104635</td>\n",
       "    </tr>\n",
       "    <tr>\n",
       "      <th>frequence</th>\n",
       "      <td>0.775424</td>\n",
       "      <td>0.956089</td>\n",
       "      <td>0.785456</td>\n",
       "      <td>0.785455</td>\n",
       "      <td>1.000000</td>\n",
       "      <td>0.169376</td>\n",
       "      <td>0.395269</td>\n",
       "      <td>0.471795</td>\n",
       "      <td>0.307009</td>\n",
       "      <td>0.591286</td>\n",
       "      <td>0.844751</td>\n",
       "      <td>-0.127918</td>\n",
       "    </tr>\n",
       "    <tr>\n",
       "      <th>data_volume</th>\n",
       "      <td>0.300683</td>\n",
       "      <td>0.152658</td>\n",
       "      <td>0.306957</td>\n",
       "      <td>0.306957</td>\n",
       "      <td>0.169376</td>\n",
       "      <td>1.000000</td>\n",
       "      <td>-0.023181</td>\n",
       "      <td>0.062469</td>\n",
       "      <td>0.022963</td>\n",
       "      <td>0.176390</td>\n",
       "      <td>0.118645</td>\n",
       "      <td>-0.010926</td>\n",
       "    </tr>\n",
       "    <tr>\n",
       "      <th>on_net</th>\n",
       "      <td>0.326491</td>\n",
       "      <td>0.404968</td>\n",
       "      <td>0.331883</td>\n",
       "      <td>0.331883</td>\n",
       "      <td>0.395269</td>\n",
       "      <td>-0.023181</td>\n",
       "      <td>1.000000</td>\n",
       "      <td>0.221391</td>\n",
       "      <td>0.137290</td>\n",
       "      <td>0.261084</td>\n",
       "      <td>0.356398</td>\n",
       "      <td>-0.042981</td>\n",
       "    </tr>\n",
       "    <tr>\n",
       "      <th>orange</th>\n",
       "      <td>0.658026</td>\n",
       "      <td>0.518861</td>\n",
       "      <td>0.660904</td>\n",
       "      <td>0.660905</td>\n",
       "      <td>0.471795</td>\n",
       "      <td>0.062469</td>\n",
       "      <td>0.221391</td>\n",
       "      <td>1.000000</td>\n",
       "      <td>0.405083</td>\n",
       "      <td>0.308927</td>\n",
       "      <td>0.553588</td>\n",
       "      <td>-0.057707</td>\n",
       "    </tr>\n",
       "    <tr>\n",
       "      <th>tigo</th>\n",
       "      <td>0.412533</td>\n",
       "      <td>0.342987</td>\n",
       "      <td>0.412403</td>\n",
       "      <td>0.412403</td>\n",
       "      <td>0.307009</td>\n",
       "      <td>0.022963</td>\n",
       "      <td>0.137290</td>\n",
       "      <td>0.405083</td>\n",
       "      <td>1.000000</td>\n",
       "      <td>0.193038</td>\n",
       "      <td>0.369002</td>\n",
       "      <td>-0.032287</td>\n",
       "    </tr>\n",
       "    <tr>\n",
       "      <th>regularity</th>\n",
       "      <td>0.518499</td>\n",
       "      <td>0.552838</td>\n",
       "      <td>0.532010</td>\n",
       "      <td>0.532008</td>\n",
       "      <td>0.591286</td>\n",
       "      <td>0.176390</td>\n",
       "      <td>0.261084</td>\n",
       "      <td>0.308927</td>\n",
       "      <td>0.193038</td>\n",
       "      <td>1.000000</td>\n",
       "      <td>0.446004</td>\n",
       "      <td>-0.278262</td>\n",
       "    </tr>\n",
       "    <tr>\n",
       "      <th>freq_top_pack</th>\n",
       "      <td>0.741025</td>\n",
       "      <td>0.868894</td>\n",
       "      <td>0.750907</td>\n",
       "      <td>0.750907</td>\n",
       "      <td>0.844751</td>\n",
       "      <td>0.118645</td>\n",
       "      <td>0.356398</td>\n",
       "      <td>0.553588</td>\n",
       "      <td>0.369002</td>\n",
       "      <td>0.446004</td>\n",
       "      <td>1.000000</td>\n",
       "      <td>-0.078183</td>\n",
       "    </tr>\n",
       "    <tr>\n",
       "      <th>churn</th>\n",
       "      <td>-0.086068</td>\n",
       "      <td>-0.102603</td>\n",
       "      <td>-0.104635</td>\n",
       "      <td>-0.104635</td>\n",
       "      <td>-0.127918</td>\n",
       "      <td>-0.010926</td>\n",
       "      <td>-0.042981</td>\n",
       "      <td>-0.057707</td>\n",
       "      <td>-0.032287</td>\n",
       "      <td>-0.278262</td>\n",
       "      <td>-0.078183</td>\n",
       "      <td>1.000000</td>\n",
       "    </tr>\n",
       "  </tbody>\n",
       "</table>\n",
       "</div>"
      ],
      "text/plain": [
       "                 montant  frequence_rech   revenue  arpu_segment  frequence  \\\n",
       "montant         1.000000        0.790971  0.977077      0.977077   0.775424   \n",
       "frequence_rech  0.790971        1.000000  0.799879      0.799878   0.956089   \n",
       "revenue         0.977077        0.799879  1.000000      1.000000   0.785456   \n",
       "arpu_segment    0.977077        0.799878  1.000000      1.000000   0.785455   \n",
       "frequence       0.775424        0.956089  0.785456      0.785455   1.000000   \n",
       "data_volume     0.300683        0.152658  0.306957      0.306957   0.169376   \n",
       "on_net          0.326491        0.404968  0.331883      0.331883   0.395269   \n",
       "orange          0.658026        0.518861  0.660904      0.660905   0.471795   \n",
       "tigo            0.412533        0.342987  0.412403      0.412403   0.307009   \n",
       "regularity      0.518499        0.552838  0.532010      0.532008   0.591286   \n",
       "freq_top_pack   0.741025        0.868894  0.750907      0.750907   0.844751   \n",
       "churn          -0.086068       -0.102603 -0.104635     -0.104635  -0.127918   \n",
       "\n",
       "                data_volume    on_net    orange      tigo  regularity  \\\n",
       "montant            0.300683  0.326491  0.658026  0.412533    0.518499   \n",
       "frequence_rech     0.152658  0.404968  0.518861  0.342987    0.552838   \n",
       "revenue            0.306957  0.331883  0.660904  0.412403    0.532010   \n",
       "arpu_segment       0.306957  0.331883  0.660905  0.412403    0.532008   \n",
       "frequence          0.169376  0.395269  0.471795  0.307009    0.591286   \n",
       "data_volume        1.000000 -0.023181  0.062469  0.022963    0.176390   \n",
       "on_net            -0.023181  1.000000  0.221391  0.137290    0.261084   \n",
       "orange             0.062469  0.221391  1.000000  0.405083    0.308927   \n",
       "tigo               0.022963  0.137290  0.405083  1.000000    0.193038   \n",
       "regularity         0.176390  0.261084  0.308927  0.193038    1.000000   \n",
       "freq_top_pack      0.118645  0.356398  0.553588  0.369002    0.446004   \n",
       "churn             -0.010926 -0.042981 -0.057707 -0.032287   -0.278262   \n",
       "\n",
       "                freq_top_pack     churn  \n",
       "montant              0.741025 -0.086068  \n",
       "frequence_rech       0.868894 -0.102603  \n",
       "revenue              0.750907 -0.104635  \n",
       "arpu_segment         0.750907 -0.104635  \n",
       "frequence            0.844751 -0.127918  \n",
       "data_volume          0.118645 -0.010926  \n",
       "on_net               0.356398 -0.042981  \n",
       "orange               0.553588 -0.057707  \n",
       "tigo                 0.369002 -0.032287  \n",
       "regularity           0.446004 -0.278262  \n",
       "freq_top_pack        1.000000 -0.078183  \n",
       "churn               -0.078183  1.000000  "
      ]
     },
     "execution_count": 28,
     "metadata": {},
     "output_type": "execute_result"
    }
   ],
   "source": [
    "data.corr()"
   ]
  },
  {
   "cell_type": "markdown",
   "id": "3cf8d026",
   "metadata": {},
   "source": [
    "**'revenue'** and **'arpu_segment'** columns correlation is 1, that is why I can drop one of them."
   ]
  },
  {
   "cell_type": "code",
   "execution_count": 29,
   "id": "f3a99447",
   "metadata": {},
   "outputs": [],
   "source": [
    "data.drop(columns=['arpu_segment'], axis=1, inplace=True)"
   ]
  },
  {
   "cell_type": "markdown",
   "id": "48be9c2b",
   "metadata": {},
   "source": [
    "Get Correlation of \"churn\" column with other variables."
   ]
  },
  {
   "cell_type": "code",
   "execution_count": 30,
   "id": "0184f10e",
   "metadata": {},
   "outputs": [],
   "source": [
    "c = data.corr()['churn'].abs()\n",
    "sc = c.sort_values()\n",
    "a = dict(sc.tail(40))\n",
    "b = a.keys()"
   ]
  },
  {
   "cell_type": "code",
   "execution_count": 31,
   "id": "a141aebf",
   "metadata": {},
   "outputs": [
    {
     "data": {
      "image/png": "[encoded data removed]",
      "text/plain": [
       "<Figure size 432x288 with 1 Axes>"
      ]
     },
     "metadata": {
      "needs_background": "light"
     },
     "output_type": "display_data"
    }
   ],
   "source": [
    "data[b].corr()['churn'].sort_values(ascending = False).plot(kind='bar');"
   ]
  },
  {
   "cell_type": "markdown",
   "id": "24383a94",
   "metadata": {},
   "source": [
    "The greatest correlation between target variable and __'regularity'__ column. The followings are 'frequence', 'revenue', 'frequence_rech' and so on."
   ]
  },
  {
   "cell_type": "code",
   "execution_count": 32,
   "id": "e22432a1",
   "metadata": {},
   "outputs": [
    {
     "data": {
      "text/plain": [
       "user_id           1680754\n",
       "region                 14\n",
       "tenure                  8\n",
       "montant              7223\n",
       "frequence_rech        126\n",
       "revenue             39742\n",
       "frequence              91\n",
       "data_volume         43850\n",
       "on_net              10320\n",
       "orange               3283\n",
       "tigo                 1376\n",
       "mrg                     1\n",
       "regularity             62\n",
       "top_pack              142\n",
       "freq_top_pack         257\n",
       "churn                   2\n",
       "dtype: int64"
      ]
     },
     "execution_count": 32,
     "metadata": {},
     "output_type": "execute_result"
    }
   ],
   "source": [
    "data.nunique()"
   ]
  },
  {
   "cell_type": "markdown",
   "id": "42d91730",
   "metadata": {},
   "source": [
    "We can drop __'mrg'__ column because there is only one unique value."
   ]
  },
  {
   "cell_type": "code",
   "execution_count": 33,
   "id": "57d7f266",
   "metadata": {},
   "outputs": [
    {
     "data": {
      "text/plain": [
       "(1680754, 15)"
      ]
     },
     "execution_count": 33,
     "metadata": {},
     "output_type": "execute_result"
    }
   ],
   "source": [
    "data.drop(columns=['mrg'], axis=1, inplace=True)\n",
    "data.shape"
   ]
  },
  {
   "cell_type": "code",
   "execution_count": 34,
   "id": "70a412ca",
   "metadata": {},
   "outputs": [],
   "source": [
    "# pip install lightgbm"
   ]
  },
  {
   "cell_type": "code",
   "execution_count": 35,
   "id": "ff2e358f",
   "metadata": {},
   "outputs": [],
   "source": [
    "# import lightgbm as lgb"
   ]
  },
  {
   "cell_type": "code",
   "execution_count": 36,
   "id": "be568a77",
   "metadata": {},
   "outputs": [],
   "source": [
    "# params = {\n",
    "#    \"monotone_constraints\": [-1, 0, 1]\n",
    "# }"
   ]
  },
  {
   "cell_type": "code",
   "execution_count": 37,
   "id": "705405cf",
   "metadata": {},
   "outputs": [
    {
     "data": {
      "text/plain": [
       "user_id           1680754\n",
       "region                 14\n",
       "tenure                  8\n",
       "montant              7223\n",
       "frequence_rech        126\n",
       "revenue             39742\n",
       "frequence              91\n",
       "data_volume         43850\n",
       "on_net              10320\n",
       "orange               3283\n",
       "tigo                 1376\n",
       "regularity             62\n",
       "top_pack              142\n",
       "freq_top_pack         257\n",
       "churn                   2\n",
       "dtype: int64"
      ]
     },
     "execution_count": 37,
     "metadata": {},
     "output_type": "execute_result"
    }
   ],
   "source": [
    "data.nunique()"
   ]
  },
  {
   "cell_type": "markdown",
   "id": "9842d5e4",
   "metadata": {},
   "source": [
    "## Outliers"
   ]
  },
  {
   "cell_type": "code",
   "execution_count": 38,
   "id": "c8a01745",
   "metadata": {},
   "outputs": [],
   "source": [
    "Q1 = data.quantile(0.25)\n",
    "Q3 = data.quantile(0.75)\n",
    "IQR = Q3 - Q1"
   ]
  },
  {
   "cell_type": "code",
   "execution_count": 39,
   "id": "5bc42086",
   "metadata": {},
   "outputs": [
    {
     "data": {
      "text/plain": [
       "churn              77193\n",
       "data_volume       125949\n",
       "freq_top_pack     107444\n",
       "frequence          82171\n",
       "frequence_rech    107672\n",
       "montant            98102\n",
       "on_net            213080\n",
       "orange            153785\n",
       "region                 0\n",
       "regularity             0\n",
       "revenue           107281\n",
       "tenure                 0\n",
       "tigo              117245\n",
       "top_pack               0\n",
       "user_id                0\n",
       "dtype: int64"
      ]
     },
     "execution_count": 39,
     "metadata": {},
     "output_type": "execute_result"
    }
   ],
   "source": [
    "((data < (Q1 - 1.5 * IQR)) | (data > (Q3 + 1.5 * IQR))).sum()"
   ]
  },
  {
   "cell_type": "code",
   "execution_count": 40,
   "id": "e440d09f",
   "metadata": {},
   "outputs": [],
   "source": [
    "# def outliers(df, feature):\n",
    "#     Q1= df[feature].quantile(0.25)\n",
    "#     Q3 = df[feature].quantile(0.75)\n",
    "#     IQR = Q3 - Q1\n",
    "#     upper_limit = Q3 + 1.5 * IQR\n",
    "#     lower_limit = Q1 - 1.5 * IQR\n",
    "#     return upper_limit, lower_limit\n",
    "# upper, lower = outliers(data, \"data_volume\")\n",
    "# print(\"Upper whisker: \", upper)\n",
    "# print(\"Lower Whisker: \", lower)"
   ]
  },
  {
   "cell_type": "code",
   "execution_count": 41,
   "id": "ace85d7c",
   "metadata": {},
   "outputs": [],
   "source": [
    "cols = ['data_volume', 'freq_top_pack', 'frequence', 'frequence_rech', 'montant', 'on_net', 'orange', 'tigo'] # one or more\n",
    "\n",
    "Q1 = data[cols].quantile(0.25)\n",
    "Q3 = data[cols].quantile(0.75)\n",
    "IQR = Q3 - Q1\n",
    "\n",
    "data = data[~((data[cols] < (Q1 - 1.5 * IQR)) |(data[cols] > (Q3 + 1.5 * IQR))).any(axis=1)]"
   ]
  },
  {
   "cell_type": "code",
   "execution_count": 42,
   "id": "3fb6f178",
   "metadata": {},
   "outputs": [
    {
     "data": {
      "text/plain": [
       "(1209381, 15)"
      ]
     },
     "execution_count": 42,
     "metadata": {},
     "output_type": "execute_result"
    }
   ],
   "source": [
    "# 1680754, 14\n",
    "data.shape"
   ]
  },
  {
   "cell_type": "markdown",
   "id": "2a23261d",
   "metadata": {},
   "source": [
    "## Filling Missing values\n",
    "### Multivariate feature imputation"
   ]
  },
  {
   "cell_type": "markdown",
   "id": "b7512c4e",
   "metadata": {},
   "source": [
    "A more sophisticated [approach](https://scikit-learn.org/stable/modules/impute.html) is to use the IterativeImputer class, which models each feature with missing values as a function of other features, and uses that estimate for imputation. It does so in an iterated round-robin fashion: at each step, a feature column is designated as output y and the other feature columns are treated as inputs X. A regressor is fit on (X, y) for known y. Then, the regressor is used to predict the missing values of y. This is done for each feature in an iterative fashion, and then is repeated for max_iter imputation rounds. The results of the final imputation round are returned."
   ]
  },
  {
   "cell_type": "markdown",
   "id": "3347d7bf",
   "metadata": {},
   "source": [
    "__Note__ This estimator is still experimental for now: default parameters or details of behaviour might change without any deprecation cycle. "
   ]
  },
  {
   "cell_type": "code",
   "execution_count": 43,
   "id": "8d519f83",
   "metadata": {},
   "outputs": [
    {
     "data": {
      "text/html": [
       "<div>\n",
       "<style scoped>\n",
       "    .dataframe tbody tr th:only-of-type {\n",
       "        vertical-align: middle;\n",
       "    }\n",
       "\n",
       "    .dataframe tbody tr th {\n",
       "        vertical-align: top;\n",
       "    }\n",
       "\n",
       "    .dataframe thead th {\n",
       "        text-align: right;\n",
       "    }\n",
       "</style>\n",
       "<table border=\"1\" class=\"dataframe\">\n",
       "  <thead>\n",
       "    <tr style=\"text-align: right;\">\n",
       "      <th></th>\n",
       "      <th>tenure1</th>\n",
       "      <th>tenure</th>\n",
       "    </tr>\n",
       "  </thead>\n",
       "  <tbody>\n",
       "    <tr>\n",
       "      <th>0</th>\n",
       "      <td>7.0</td>\n",
       "      <td>K &gt; 24 month</td>\n",
       "    </tr>\n",
       "    <tr>\n",
       "      <th>2</th>\n",
       "      <td>7.0</td>\n",
       "      <td>K &gt; 24 month</td>\n",
       "    </tr>\n",
       "    <tr>\n",
       "      <th>4</th>\n",
       "      <td>7.0</td>\n",
       "      <td>K &gt; 24 month</td>\n",
       "    </tr>\n",
       "    <tr>\n",
       "      <th>8</th>\n",
       "      <td>7.0</td>\n",
       "      <td>K &gt; 24 month</td>\n",
       "    </tr>\n",
       "    <tr>\n",
       "      <th>11</th>\n",
       "      <td>7.0</td>\n",
       "      <td>K &gt; 24 month</td>\n",
       "    </tr>\n",
       "    <tr>\n",
       "      <th>13</th>\n",
       "      <td>7.0</td>\n",
       "      <td>K &gt; 24 month</td>\n",
       "    </tr>\n",
       "    <tr>\n",
       "      <th>14</th>\n",
       "      <td>7.0</td>\n",
       "      <td>K &gt; 24 month</td>\n",
       "    </tr>\n",
       "    <tr>\n",
       "      <th>15</th>\n",
       "      <td>7.0</td>\n",
       "      <td>K &gt; 24 month</td>\n",
       "    </tr>\n",
       "    <tr>\n",
       "      <th>25</th>\n",
       "      <td>7.0</td>\n",
       "      <td>K &gt; 24 month</td>\n",
       "    </tr>\n",
       "    <tr>\n",
       "      <th>29</th>\n",
       "      <td>7.0</td>\n",
       "      <td>K &gt; 24 month</td>\n",
       "    </tr>\n",
       "  </tbody>\n",
       "</table>\n",
       "</div>"
      ],
      "text/plain": [
       "    tenure1        tenure\n",
       "0       7.0  K > 24 month\n",
       "2       7.0  K > 24 month\n",
       "4       7.0  K > 24 month\n",
       "8       7.0  K > 24 month\n",
       "11      7.0  K > 24 month\n",
       "13      7.0  K > 24 month\n",
       "14      7.0  K > 24 month\n",
       "15      7.0  K > 24 month\n",
       "25      7.0  K > 24 month\n",
       "29      7.0  K > 24 month"
      ]
     },
     "execution_count": 43,
     "metadata": {},
     "output_type": "execute_result"
    }
   ],
   "source": [
    "from sklearn.preprocessing import OrdinalEncoder\n",
    "\n",
    "ord_enc = OrdinalEncoder()\n",
    "data[\"tenure1\"] = ord_enc.fit_transform(data[[\"tenure\"]])\n",
    "data[[\"tenure1\", \"tenure\"]].head(10)"
   ]
  },
  {
   "cell_type": "markdown",
   "id": "ff5ea49a",
   "metadata": {},
   "source": [
    "### 'frequence_rech' and 'montant' columns"
   ]
  },
  {
   "cell_type": "code",
   "execution_count": 44,
   "id": "e78bee1c",
   "metadata": {},
   "outputs": [],
   "source": [
    "from sklearn.impute import SimpleImputer\n",
    "from sklearn.experimental import enable_iterative_imputer\n",
    "from sklearn.impute import IterativeImputer"
   ]
  },
  {
   "cell_type": "code",
   "execution_count": 45,
   "id": "7b336244",
   "metadata": {},
   "outputs": [
    {
     "data": {
      "text/html": [
       "<div>\n",
       "<style scoped>\n",
       "    .dataframe tbody tr th:only-of-type {\n",
       "        vertical-align: middle;\n",
       "    }\n",
       "\n",
       "    .dataframe tbody tr th {\n",
       "        vertical-align: top;\n",
       "    }\n",
       "\n",
       "    .dataframe thead th {\n",
       "        text-align: right;\n",
       "    }\n",
       "</style>\n",
       "<table border=\"1\" class=\"dataframe\">\n",
       "  <thead>\n",
       "    <tr style=\"text-align: right;\">\n",
       "      <th></th>\n",
       "      <th>tenure1</th>\n",
       "      <th>regularity</th>\n",
       "      <th>frequence</th>\n",
       "      <th>revenue</th>\n",
       "      <th>frequence_rech</th>\n",
       "      <th>montant</th>\n",
       "    </tr>\n",
       "  </thead>\n",
       "  <tbody>\n",
       "    <tr>\n",
       "      <th>0</th>\n",
       "      <td>7.0</td>\n",
       "      <td>54</td>\n",
       "      <td>17.0</td>\n",
       "      <td>4251.0</td>\n",
       "      <td>15.0</td>\n",
       "      <td>4250.0</td>\n",
       "    </tr>\n",
       "    <tr>\n",
       "      <th>2</th>\n",
       "      <td>7.0</td>\n",
       "      <td>17</td>\n",
       "      <td>2.0</td>\n",
       "      <td>1020.0</td>\n",
       "      <td>2.0</td>\n",
       "      <td>3600.0</td>\n",
       "    </tr>\n",
       "    <tr>\n",
       "      <th>4</th>\n",
       "      <td>7.0</td>\n",
       "      <td>11</td>\n",
       "      <td>1.0</td>\n",
       "      <td>985.0</td>\n",
       "      <td>1.0</td>\n",
       "      <td>1000.0</td>\n",
       "    </tr>\n",
       "    <tr>\n",
       "      <th>8</th>\n",
       "      <td>7.0</td>\n",
       "      <td>31</td>\n",
       "      <td>12.0</td>\n",
       "      <td>1502.0</td>\n",
       "      <td>3.0</td>\n",
       "      <td>1500.0</td>\n",
       "    </tr>\n",
       "    <tr>\n",
       "      <th>11</th>\n",
       "      <td>7.0</td>\n",
       "      <td>62</td>\n",
       "      <td>36.0</td>\n",
       "      <td>11870.0</td>\n",
       "      <td>27.0</td>\n",
       "      <td>12650.0</td>\n",
       "    </tr>\n",
       "    <tr>\n",
       "      <th>...</th>\n",
       "      <td>...</td>\n",
       "      <td>...</td>\n",
       "      <td>...</td>\n",
       "      <td>...</td>\n",
       "      <td>...</td>\n",
       "      <td>...</td>\n",
       "    </tr>\n",
       "    <tr>\n",
       "      <th>380114</th>\n",
       "      <td>7.0</td>\n",
       "      <td>20</td>\n",
       "      <td>10.0</td>\n",
       "      <td>1211.0</td>\n",
       "      <td>7.0</td>\n",
       "      <td>1600.0</td>\n",
       "    </tr>\n",
       "    <tr>\n",
       "      <th>380118</th>\n",
       "      <td>4.0</td>\n",
       "      <td>4</td>\n",
       "      <td>2.0</td>\n",
       "      <td>991.0</td>\n",
       "      <td>2.0</td>\n",
       "      <td>1000.0</td>\n",
       "    </tr>\n",
       "    <tr>\n",
       "      <th>380120</th>\n",
       "      <td>7.0</td>\n",
       "      <td>52</td>\n",
       "      <td>7.0</td>\n",
       "      <td>3299.0</td>\n",
       "      <td>7.0</td>\n",
       "      <td>3300.0</td>\n",
       "    </tr>\n",
       "    <tr>\n",
       "      <th>380124</th>\n",
       "      <td>7.0</td>\n",
       "      <td>15</td>\n",
       "      <td>10.0</td>\n",
       "      <td>3949.0</td>\n",
       "      <td>7.0</td>\n",
       "      <td>3950.0</td>\n",
       "    </tr>\n",
       "    <tr>\n",
       "      <th>380125</th>\n",
       "      <td>7.0</td>\n",
       "      <td>29</td>\n",
       "      <td>23.0</td>\n",
       "      <td>3955.0</td>\n",
       "      <td>18.0</td>\n",
       "      <td>3850.0</td>\n",
       "    </tr>\n",
       "  </tbody>\n",
       "</table>\n",
       "<p>1209381 rows × 6 columns</p>\n",
       "</div>"
      ],
      "text/plain": [
       "        tenure1  regularity  frequence  revenue  frequence_rech  montant\n",
       "0           7.0          54       17.0   4251.0            15.0   4250.0\n",
       "2           7.0          17        2.0   1020.0             2.0   3600.0\n",
       "4           7.0          11        1.0    985.0             1.0   1000.0\n",
       "8           7.0          31       12.0   1502.0             3.0   1500.0\n",
       "11          7.0          62       36.0  11870.0            27.0  12650.0\n",
       "...         ...         ...        ...      ...             ...      ...\n",
       "380114      7.0          20       10.0   1211.0             7.0   1600.0\n",
       "380118      4.0           4        2.0    991.0             2.0   1000.0\n",
       "380120      7.0          52        7.0   3299.0             7.0   3300.0\n",
       "380124      7.0          15       10.0   3949.0             7.0   3950.0\n",
       "380125      7.0          29       23.0   3955.0            18.0   3850.0\n",
       "\n",
       "[1209381 rows x 6 columns]"
      ]
     },
     "execution_count": 45,
     "metadata": {},
     "output_type": "execute_result"
    }
   ],
   "source": [
    "cols = ['tenure1', 'regularity', 'frequence', 'revenue', 'frequence_rech', 'montant']\n",
    "X = data[cols]\n",
    "X"
   ]
  },
  {
   "cell_type": "code",
   "execution_count": 46,
   "id": "dce3b65e",
   "metadata": {},
   "outputs": [
    {
     "data": {
      "text/html": [
       "<div>\n",
       "<style scoped>\n",
       "    .dataframe tbody tr th:only-of-type {\n",
       "        vertical-align: middle;\n",
       "    }\n",
       "\n",
       "    .dataframe tbody tr th {\n",
       "        vertical-align: top;\n",
       "    }\n",
       "\n",
       "    .dataframe thead th {\n",
       "        text-align: right;\n",
       "    }\n",
       "</style>\n",
       "<table border=\"1\" class=\"dataframe\">\n",
       "  <thead>\n",
       "    <tr style=\"text-align: right;\">\n",
       "      <th></th>\n",
       "      <th>tenure1</th>\n",
       "      <th>regularity</th>\n",
       "      <th>frequence</th>\n",
       "      <th>revenue</th>\n",
       "      <th>frequence_rech</th>\n",
       "      <th>montant</th>\n",
       "    </tr>\n",
       "  </thead>\n",
       "  <tbody>\n",
       "    <tr>\n",
       "      <th>0</th>\n",
       "      <td>7.0</td>\n",
       "      <td>54.0</td>\n",
       "      <td>17.0</td>\n",
       "      <td>4251.0</td>\n",
       "      <td>15.0</td>\n",
       "      <td>4250.0</td>\n",
       "    </tr>\n",
       "    <tr>\n",
       "      <th>1</th>\n",
       "      <td>7.0</td>\n",
       "      <td>17.0</td>\n",
       "      <td>2.0</td>\n",
       "      <td>1020.0</td>\n",
       "      <td>2.0</td>\n",
       "      <td>3600.0</td>\n",
       "    </tr>\n",
       "    <tr>\n",
       "      <th>2</th>\n",
       "      <td>7.0</td>\n",
       "      <td>11.0</td>\n",
       "      <td>1.0</td>\n",
       "      <td>985.0</td>\n",
       "      <td>1.0</td>\n",
       "      <td>1000.0</td>\n",
       "    </tr>\n",
       "    <tr>\n",
       "      <th>3</th>\n",
       "      <td>7.0</td>\n",
       "      <td>31.0</td>\n",
       "      <td>12.0</td>\n",
       "      <td>1502.0</td>\n",
       "      <td>3.0</td>\n",
       "      <td>1500.0</td>\n",
       "    </tr>\n",
       "    <tr>\n",
       "      <th>4</th>\n",
       "      <td>7.0</td>\n",
       "      <td>62.0</td>\n",
       "      <td>36.0</td>\n",
       "      <td>11870.0</td>\n",
       "      <td>27.0</td>\n",
       "      <td>12650.0</td>\n",
       "    </tr>\n",
       "  </tbody>\n",
       "</table>\n",
       "</div>"
      ],
      "text/plain": [
       "   tenure1  regularity  frequence  revenue  frequence_rech  montant\n",
       "0      7.0        54.0       17.0   4251.0            15.0   4250.0\n",
       "1      7.0        17.0        2.0   1020.0             2.0   3600.0\n",
       "2      7.0        11.0        1.0    985.0             1.0   1000.0\n",
       "3      7.0        31.0       12.0   1502.0             3.0   1500.0\n",
       "4      7.0        62.0       36.0  11870.0            27.0  12650.0"
      ]
     },
     "execution_count": 46,
     "metadata": {},
     "output_type": "execute_result"
    }
   ],
   "source": [
    "impute_it = IterativeImputer(max_iter=10, random_state=42)\n",
    "impute_it = impute_it.fit_transform(X)\n",
    "k = pd.DataFrame(impute_it, columns=cols)\n",
    "k.head()"
   ]
  },
  {
   "cell_type": "markdown",
   "id": "d72794ba",
   "metadata": {},
   "source": [
    "Renaming columns because later when we merge them with 'data' dataframe, problems won't appear."
   ]
  },
  {
   "cell_type": "code",
   "execution_count": 47,
   "id": "ac3c9ead",
   "metadata": {},
   "outputs": [
    {
     "data": {
      "text/html": [
       "<div>\n",
       "<style scoped>\n",
       "    .dataframe tbody tr th:only-of-type {\n",
       "        vertical-align: middle;\n",
       "    }\n",
       "\n",
       "    .dataframe tbody tr th {\n",
       "        vertical-align: top;\n",
       "    }\n",
       "\n",
       "    .dataframe thead th {\n",
       "        text-align: right;\n",
       "    }\n",
       "</style>\n",
       "<table border=\"1\" class=\"dataframe\">\n",
       "  <thead>\n",
       "    <tr style=\"text-align: right;\">\n",
       "      <th></th>\n",
       "      <th>user_id</th>\n",
       "      <th>region</th>\n",
       "      <th>tenure</th>\n",
       "      <th>montant</th>\n",
       "      <th>frequence_rech</th>\n",
       "      <th>revenue</th>\n",
       "      <th>frequence</th>\n",
       "      <th>data_volume</th>\n",
       "      <th>on_net</th>\n",
       "      <th>orange</th>\n",
       "      <th>tigo</th>\n",
       "      <th>regularity</th>\n",
       "      <th>top_pack</th>\n",
       "      <th>freq_top_pack</th>\n",
       "      <th>churn</th>\n",
       "      <th>tenure1</th>\n",
       "    </tr>\n",
       "  </thead>\n",
       "  <tbody>\n",
       "    <tr>\n",
       "      <th>0</th>\n",
       "      <td>00000bfd7d50f01092811bc0c8d7b0d6fe7c3596</td>\n",
       "      <td>FATICK</td>\n",
       "      <td>K &gt; 24 month</td>\n",
       "      <td>4250.0</td>\n",
       "      <td>15.0</td>\n",
       "      <td>4251.0</td>\n",
       "      <td>17.0</td>\n",
       "      <td>4.0</td>\n",
       "      <td>388.0</td>\n",
       "      <td>46.0</td>\n",
       "      <td>1.0</td>\n",
       "      <td>54</td>\n",
       "      <td>On net 200F=Unlimited _call24H</td>\n",
       "      <td>8.0</td>\n",
       "      <td>0</td>\n",
       "      <td>7.0</td>\n",
       "    </tr>\n",
       "    <tr>\n",
       "      <th>2</th>\n",
       "      <td>00001654a9d9f96303d9969d0a4a851714a4bb57</td>\n",
       "      <td>NaN</td>\n",
       "      <td>K &gt; 24 month</td>\n",
       "      <td>3600.0</td>\n",
       "      <td>2.0</td>\n",
       "      <td>1020.0</td>\n",
       "      <td>2.0</td>\n",
       "      <td>NaN</td>\n",
       "      <td>90.0</td>\n",
       "      <td>46.0</td>\n",
       "      <td>7.0</td>\n",
       "      <td>17</td>\n",
       "      <td>On-net 1000F=10MilF;10d</td>\n",
       "      <td>1.0</td>\n",
       "      <td>0</td>\n",
       "      <td>7.0</td>\n",
       "    </tr>\n",
       "    <tr>\n",
       "      <th>4</th>\n",
       "      <td>000028d9e13a595abe061f9b58f3d76ab907850f</td>\n",
       "      <td>DAKAR</td>\n",
       "      <td>K &gt; 24 month</td>\n",
       "      <td>1000.0</td>\n",
       "      <td>1.0</td>\n",
       "      <td>985.0</td>\n",
       "      <td>1.0</td>\n",
       "      <td>NaN</td>\n",
       "      <td>39.0</td>\n",
       "      <td>24.0</td>\n",
       "      <td>NaN</td>\n",
       "      <td>11</td>\n",
       "      <td>Mixt 250F=Unlimited_call24H</td>\n",
       "      <td>2.0</td>\n",
       "      <td>0</td>\n",
       "      <td>7.0</td>\n",
       "    </tr>\n",
       "    <tr>\n",
       "      <th>8</th>\n",
       "      <td>0000398021ccd3a488fa1a63dee3b2f0d471f9fd</td>\n",
       "      <td>DAKAR</td>\n",
       "      <td>K &gt; 24 month</td>\n",
       "      <td>1500.0</td>\n",
       "      <td>3.0</td>\n",
       "      <td>1502.0</td>\n",
       "      <td>12.0</td>\n",
       "      <td>NaN</td>\n",
       "      <td>2.0</td>\n",
       "      <td>53.0</td>\n",
       "      <td>2.0</td>\n",
       "      <td>31</td>\n",
       "      <td>NaN</td>\n",
       "      <td>NaN</td>\n",
       "      <td>0</td>\n",
       "      <td>7.0</td>\n",
       "    </tr>\n",
       "    <tr>\n",
       "      <th>11</th>\n",
       "      <td>00005b7c61f811e4eef1a05903a4b700afd23e46</td>\n",
       "      <td>KAOLACK</td>\n",
       "      <td>K &gt; 24 month</td>\n",
       "      <td>12650.0</td>\n",
       "      <td>27.0</td>\n",
       "      <td>11870.0</td>\n",
       "      <td>36.0</td>\n",
       "      <td>8453.0</td>\n",
       "      <td>431.0</td>\n",
       "      <td>66.0</td>\n",
       "      <td>6.0</td>\n",
       "      <td>62</td>\n",
       "      <td>On net 200F=Unlimited _call24H</td>\n",
       "      <td>11.0</td>\n",
       "      <td>0</td>\n",
       "      <td>7.0</td>\n",
       "    </tr>\n",
       "  </tbody>\n",
       "</table>\n",
       "</div>"
      ],
      "text/plain": [
       "                                     user_id   region        tenure  montant  \\\n",
       "0   00000bfd7d50f01092811bc0c8d7b0d6fe7c3596   FATICK  K > 24 month   4250.0   \n",
       "2   00001654a9d9f96303d9969d0a4a851714a4bb57      NaN  K > 24 month   3600.0   \n",
       "4   000028d9e13a595abe061f9b58f3d76ab907850f    DAKAR  K > 24 month   1000.0   \n",
       "8   0000398021ccd3a488fa1a63dee3b2f0d471f9fd    DAKAR  K > 24 month   1500.0   \n",
       "11  00005b7c61f811e4eef1a05903a4b700afd23e46  KAOLACK  K > 24 month  12650.0   \n",
       "\n",
       "    frequence_rech  revenue  frequence  data_volume  on_net  orange  tigo  \\\n",
       "0             15.0   4251.0       17.0          4.0   388.0    46.0   1.0   \n",
       "2              2.0   1020.0        2.0          NaN    90.0    46.0   7.0   \n",
       "4              1.0    985.0        1.0          NaN    39.0    24.0   NaN   \n",
       "8              3.0   1502.0       12.0          NaN     2.0    53.0   2.0   \n",
       "11            27.0  11870.0       36.0       8453.0   431.0    66.0   6.0   \n",
       "\n",
       "    regularity                        top_pack  freq_top_pack  churn  tenure1  \n",
       "0           54  On net 200F=Unlimited _call24H            8.0      0      7.0  \n",
       "2           17         On-net 1000F=10MilF;10d            1.0      0      7.0  \n",
       "4           11     Mixt 250F=Unlimited_call24H            2.0      0      7.0  \n",
       "8           31                             NaN            NaN      0      7.0  \n",
       "11          62  On net 200F=Unlimited _call24H           11.0      0      7.0  "
      ]
     },
     "execution_count": 47,
     "metadata": {},
     "output_type": "execute_result"
    }
   ],
   "source": [
    "k = k.rename({'frequence_rech': 'frequence_rech1'}, axis=1)\n",
    "k = k.rename({'montant': 'montant1'}, axis=1)\n",
    "data.head()"
   ]
  },
  {
   "cell_type": "code",
   "execution_count": 48,
   "id": "47a30323",
   "metadata": {},
   "outputs": [
    {
     "data": {
      "text/html": [
       "<div>\n",
       "<style scoped>\n",
       "    .dataframe tbody tr th:only-of-type {\n",
       "        vertical-align: middle;\n",
       "    }\n",
       "\n",
       "    .dataframe tbody tr th {\n",
       "        vertical-align: top;\n",
       "    }\n",
       "\n",
       "    .dataframe thead th {\n",
       "        text-align: right;\n",
       "    }\n",
       "</style>\n",
       "<table border=\"1\" class=\"dataframe\">\n",
       "  <thead>\n",
       "    <tr style=\"text-align: right;\">\n",
       "      <th></th>\n",
       "      <th>index</th>\n",
       "      <th>user_id</th>\n",
       "      <th>region</th>\n",
       "      <th>tenure</th>\n",
       "      <th>montant</th>\n",
       "      <th>frequence_rech</th>\n",
       "      <th>revenue</th>\n",
       "      <th>frequence</th>\n",
       "      <th>data_volume</th>\n",
       "      <th>on_net</th>\n",
       "      <th>orange</th>\n",
       "      <th>tigo</th>\n",
       "      <th>regularity</th>\n",
       "      <th>top_pack</th>\n",
       "      <th>freq_top_pack</th>\n",
       "      <th>churn</th>\n",
       "      <th>tenure1</th>\n",
       "    </tr>\n",
       "  </thead>\n",
       "  <tbody>\n",
       "    <tr>\n",
       "      <th>0</th>\n",
       "      <td>0</td>\n",
       "      <td>00000bfd7d50f01092811bc0c8d7b0d6fe7c3596</td>\n",
       "      <td>FATICK</td>\n",
       "      <td>K &gt; 24 month</td>\n",
       "      <td>4250.0</td>\n",
       "      <td>15.0</td>\n",
       "      <td>4251.0</td>\n",
       "      <td>17.0</td>\n",
       "      <td>4.0</td>\n",
       "      <td>388.0</td>\n",
       "      <td>46.0</td>\n",
       "      <td>1.0</td>\n",
       "      <td>54</td>\n",
       "      <td>On net 200F=Unlimited _call24H</td>\n",
       "      <td>8.0</td>\n",
       "      <td>0</td>\n",
       "      <td>7.0</td>\n",
       "    </tr>\n",
       "    <tr>\n",
       "      <th>1</th>\n",
       "      <td>2</td>\n",
       "      <td>00001654a9d9f96303d9969d0a4a851714a4bb57</td>\n",
       "      <td>NaN</td>\n",
       "      <td>K &gt; 24 month</td>\n",
       "      <td>3600.0</td>\n",
       "      <td>2.0</td>\n",
       "      <td>1020.0</td>\n",
       "      <td>2.0</td>\n",
       "      <td>NaN</td>\n",
       "      <td>90.0</td>\n",
       "      <td>46.0</td>\n",
       "      <td>7.0</td>\n",
       "      <td>17</td>\n",
       "      <td>On-net 1000F=10MilF;10d</td>\n",
       "      <td>1.0</td>\n",
       "      <td>0</td>\n",
       "      <td>7.0</td>\n",
       "    </tr>\n",
       "    <tr>\n",
       "      <th>2</th>\n",
       "      <td>4</td>\n",
       "      <td>000028d9e13a595abe061f9b58f3d76ab907850f</td>\n",
       "      <td>DAKAR</td>\n",
       "      <td>K &gt; 24 month</td>\n",
       "      <td>1000.0</td>\n",
       "      <td>1.0</td>\n",
       "      <td>985.0</td>\n",
       "      <td>1.0</td>\n",
       "      <td>NaN</td>\n",
       "      <td>39.0</td>\n",
       "      <td>24.0</td>\n",
       "      <td>NaN</td>\n",
       "      <td>11</td>\n",
       "      <td>Mixt 250F=Unlimited_call24H</td>\n",
       "      <td>2.0</td>\n",
       "      <td>0</td>\n",
       "      <td>7.0</td>\n",
       "    </tr>\n",
       "    <tr>\n",
       "      <th>3</th>\n",
       "      <td>8</td>\n",
       "      <td>0000398021ccd3a488fa1a63dee3b2f0d471f9fd</td>\n",
       "      <td>DAKAR</td>\n",
       "      <td>K &gt; 24 month</td>\n",
       "      <td>1500.0</td>\n",
       "      <td>3.0</td>\n",
       "      <td>1502.0</td>\n",
       "      <td>12.0</td>\n",
       "      <td>NaN</td>\n",
       "      <td>2.0</td>\n",
       "      <td>53.0</td>\n",
       "      <td>2.0</td>\n",
       "      <td>31</td>\n",
       "      <td>NaN</td>\n",
       "      <td>NaN</td>\n",
       "      <td>0</td>\n",
       "      <td>7.0</td>\n",
       "    </tr>\n",
       "    <tr>\n",
       "      <th>4</th>\n",
       "      <td>11</td>\n",
       "      <td>00005b7c61f811e4eef1a05903a4b700afd23e46</td>\n",
       "      <td>KAOLACK</td>\n",
       "      <td>K &gt; 24 month</td>\n",
       "      <td>12650.0</td>\n",
       "      <td>27.0</td>\n",
       "      <td>11870.0</td>\n",
       "      <td>36.0</td>\n",
       "      <td>8453.0</td>\n",
       "      <td>431.0</td>\n",
       "      <td>66.0</td>\n",
       "      <td>6.0</td>\n",
       "      <td>62</td>\n",
       "      <td>On net 200F=Unlimited _call24H</td>\n",
       "      <td>11.0</td>\n",
       "      <td>0</td>\n",
       "      <td>7.0</td>\n",
       "    </tr>\n",
       "  </tbody>\n",
       "</table>\n",
       "</div>"
      ],
      "text/plain": [
       "   index                                   user_id   region        tenure  \\\n",
       "0      0  00000bfd7d50f01092811bc0c8d7b0d6fe7c3596   FATICK  K > 24 month   \n",
       "1      2  00001654a9d9f96303d9969d0a4a851714a4bb57      NaN  K > 24 month   \n",
       "2      4  000028d9e13a595abe061f9b58f3d76ab907850f    DAKAR  K > 24 month   \n",
       "3      8  0000398021ccd3a488fa1a63dee3b2f0d471f9fd    DAKAR  K > 24 month   \n",
       "4     11  00005b7c61f811e4eef1a05903a4b700afd23e46  KAOLACK  K > 24 month   \n",
       "\n",
       "   montant  frequence_rech  revenue  frequence  data_volume  on_net  orange  \\\n",
       "0   4250.0            15.0   4251.0       17.0          4.0   388.0    46.0   \n",
       "1   3600.0             2.0   1020.0        2.0          NaN    90.0    46.0   \n",
       "2   1000.0             1.0    985.0        1.0          NaN    39.0    24.0   \n",
       "3   1500.0             3.0   1502.0       12.0          NaN     2.0    53.0   \n",
       "4  12650.0            27.0  11870.0       36.0       8453.0   431.0    66.0   \n",
       "\n",
       "   tigo  regularity                        top_pack  freq_top_pack  churn  \\\n",
       "0   1.0          54  On net 200F=Unlimited _call24H            8.0      0   \n",
       "1   7.0          17         On-net 1000F=10MilF;10d            1.0      0   \n",
       "2   NaN          11     Mixt 250F=Unlimited_call24H            2.0      0   \n",
       "3   2.0          31                             NaN            NaN      0   \n",
       "4   6.0          62  On net 200F=Unlimited _call24H           11.0      0   \n",
       "\n",
       "   tenure1  \n",
       "0      7.0  \n",
       "1      7.0  \n",
       "2      7.0  \n",
       "3      7.0  \n",
       "4      7.0  "
      ]
     },
     "execution_count": 48,
     "metadata": {},
     "output_type": "execute_result"
    }
   ],
   "source": [
    "data.reset_index(inplace=True)\n",
    "data.head()"
   ]
  },
  {
   "cell_type": "code",
   "execution_count": 49,
   "id": "38017abf",
   "metadata": {},
   "outputs": [],
   "source": [
    "data.drop(columns=['index'], inplace=True)"
   ]
  },
  {
   "cell_type": "code",
   "execution_count": 50,
   "id": "472e9f2b",
   "metadata": {},
   "outputs": [
    {
     "data": {
      "text/html": [
       "<div>\n",
       "<style scoped>\n",
       "    .dataframe tbody tr th:only-of-type {\n",
       "        vertical-align: middle;\n",
       "    }\n",
       "\n",
       "    .dataframe tbody tr th {\n",
       "        vertical-align: top;\n",
       "    }\n",
       "\n",
       "    .dataframe thead th {\n",
       "        text-align: right;\n",
       "    }\n",
       "</style>\n",
       "<table border=\"1\" class=\"dataframe\">\n",
       "  <thead>\n",
       "    <tr style=\"text-align: right;\">\n",
       "      <th></th>\n",
       "      <th>key_0</th>\n",
       "      <th>user_id</th>\n",
       "      <th>region</th>\n",
       "      <th>tenure</th>\n",
       "      <th>montant</th>\n",
       "      <th>frequence_rech</th>\n",
       "      <th>revenue</th>\n",
       "      <th>frequence</th>\n",
       "      <th>data_volume</th>\n",
       "      <th>on_net</th>\n",
       "      <th>orange</th>\n",
       "      <th>tigo</th>\n",
       "      <th>regularity</th>\n",
       "      <th>top_pack</th>\n",
       "      <th>freq_top_pack</th>\n",
       "      <th>churn</th>\n",
       "      <th>tenure1</th>\n",
       "      <th>frequence_rech1</th>\n",
       "      <th>montant1</th>\n",
       "    </tr>\n",
       "  </thead>\n",
       "  <tbody>\n",
       "    <tr>\n",
       "      <th>0</th>\n",
       "      <td>0</td>\n",
       "      <td>00000bfd7d50f01092811bc0c8d7b0d6fe7c3596</td>\n",
       "      <td>FATICK</td>\n",
       "      <td>K &gt; 24 month</td>\n",
       "      <td>4250.0</td>\n",
       "      <td>15.0</td>\n",
       "      <td>4251.0</td>\n",
       "      <td>17.0</td>\n",
       "      <td>4.0</td>\n",
       "      <td>388.0</td>\n",
       "      <td>46.0</td>\n",
       "      <td>1.0</td>\n",
       "      <td>54</td>\n",
       "      <td>On net 200F=Unlimited _call24H</td>\n",
       "      <td>8.0</td>\n",
       "      <td>0</td>\n",
       "      <td>7.0</td>\n",
       "      <td>15.0</td>\n",
       "      <td>4250.0</td>\n",
       "    </tr>\n",
       "    <tr>\n",
       "      <th>1</th>\n",
       "      <td>1</td>\n",
       "      <td>00001654a9d9f96303d9969d0a4a851714a4bb57</td>\n",
       "      <td>NaN</td>\n",
       "      <td>K &gt; 24 month</td>\n",
       "      <td>3600.0</td>\n",
       "      <td>2.0</td>\n",
       "      <td>1020.0</td>\n",
       "      <td>2.0</td>\n",
       "      <td>NaN</td>\n",
       "      <td>90.0</td>\n",
       "      <td>46.0</td>\n",
       "      <td>7.0</td>\n",
       "      <td>17</td>\n",
       "      <td>On-net 1000F=10MilF;10d</td>\n",
       "      <td>1.0</td>\n",
       "      <td>0</td>\n",
       "      <td>7.0</td>\n",
       "      <td>2.0</td>\n",
       "      <td>3600.0</td>\n",
       "    </tr>\n",
       "    <tr>\n",
       "      <th>2</th>\n",
       "      <td>2</td>\n",
       "      <td>000028d9e13a595abe061f9b58f3d76ab907850f</td>\n",
       "      <td>DAKAR</td>\n",
       "      <td>K &gt; 24 month</td>\n",
       "      <td>1000.0</td>\n",
       "      <td>1.0</td>\n",
       "      <td>985.0</td>\n",
       "      <td>1.0</td>\n",
       "      <td>NaN</td>\n",
       "      <td>39.0</td>\n",
       "      <td>24.0</td>\n",
       "      <td>NaN</td>\n",
       "      <td>11</td>\n",
       "      <td>Mixt 250F=Unlimited_call24H</td>\n",
       "      <td>2.0</td>\n",
       "      <td>0</td>\n",
       "      <td>7.0</td>\n",
       "      <td>1.0</td>\n",
       "      <td>1000.0</td>\n",
       "    </tr>\n",
       "    <tr>\n",
       "      <th>3</th>\n",
       "      <td>3</td>\n",
       "      <td>0000398021ccd3a488fa1a63dee3b2f0d471f9fd</td>\n",
       "      <td>DAKAR</td>\n",
       "      <td>K &gt; 24 month</td>\n",
       "      <td>1500.0</td>\n",
       "      <td>3.0</td>\n",
       "      <td>1502.0</td>\n",
       "      <td>12.0</td>\n",
       "      <td>NaN</td>\n",
       "      <td>2.0</td>\n",
       "      <td>53.0</td>\n",
       "      <td>2.0</td>\n",
       "      <td>31</td>\n",
       "      <td>NaN</td>\n",
       "      <td>NaN</td>\n",
       "      <td>0</td>\n",
       "      <td>7.0</td>\n",
       "      <td>3.0</td>\n",
       "      <td>1500.0</td>\n",
       "    </tr>\n",
       "    <tr>\n",
       "      <th>4</th>\n",
       "      <td>4</td>\n",
       "      <td>00005b7c61f811e4eef1a05903a4b700afd23e46</td>\n",
       "      <td>KAOLACK</td>\n",
       "      <td>K &gt; 24 month</td>\n",
       "      <td>12650.0</td>\n",
       "      <td>27.0</td>\n",
       "      <td>11870.0</td>\n",
       "      <td>36.0</td>\n",
       "      <td>8453.0</td>\n",
       "      <td>431.0</td>\n",
       "      <td>66.0</td>\n",
       "      <td>6.0</td>\n",
       "      <td>62</td>\n",
       "      <td>On net 200F=Unlimited _call24H</td>\n",
       "      <td>11.0</td>\n",
       "      <td>0</td>\n",
       "      <td>7.0</td>\n",
       "      <td>27.0</td>\n",
       "      <td>12650.0</td>\n",
       "    </tr>\n",
       "  </tbody>\n",
       "</table>\n",
       "</div>"
      ],
      "text/plain": [
       "   key_0                                   user_id   region        tenure  \\\n",
       "0      0  00000bfd7d50f01092811bc0c8d7b0d6fe7c3596   FATICK  K > 24 month   \n",
       "1      1  00001654a9d9f96303d9969d0a4a851714a4bb57      NaN  K > 24 month   \n",
       "2      2  000028d9e13a595abe061f9b58f3d76ab907850f    DAKAR  K > 24 month   \n",
       "3      3  0000398021ccd3a488fa1a63dee3b2f0d471f9fd    DAKAR  K > 24 month   \n",
       "4      4  00005b7c61f811e4eef1a05903a4b700afd23e46  KAOLACK  K > 24 month   \n",
       "\n",
       "   montant  frequence_rech  revenue  frequence  data_volume  on_net  orange  \\\n",
       "0   4250.0            15.0   4251.0       17.0          4.0   388.0    46.0   \n",
       "1   3600.0             2.0   1020.0        2.0          NaN    90.0    46.0   \n",
       "2   1000.0             1.0    985.0        1.0          NaN    39.0    24.0   \n",
       "3   1500.0             3.0   1502.0       12.0          NaN     2.0    53.0   \n",
       "4  12650.0            27.0  11870.0       36.0       8453.0   431.0    66.0   \n",
       "\n",
       "   tigo  regularity                        top_pack  freq_top_pack  churn  \\\n",
       "0   1.0          54  On net 200F=Unlimited _call24H            8.0      0   \n",
       "1   7.0          17         On-net 1000F=10MilF;10d            1.0      0   \n",
       "2   NaN          11     Mixt 250F=Unlimited_call24H            2.0      0   \n",
       "3   2.0          31                             NaN            NaN      0   \n",
       "4   6.0          62  On net 200F=Unlimited _call24H           11.0      0   \n",
       "\n",
       "   tenure1  frequence_rech1  montant1  \n",
       "0      7.0             15.0    4250.0  \n",
       "1      7.0              2.0    3600.0  \n",
       "2      7.0              1.0    1000.0  \n",
       "3      7.0              3.0    1500.0  \n",
       "4      7.0             27.0   12650.0  "
      ]
     },
     "execution_count": 50,
     "metadata": {},
     "output_type": "execute_result"
    }
   ],
   "source": [
    "extracted_col = k[[\"frequence_rech1\", 'montant1']]\n",
    "data = data.merge(extracted_col, on=data.index)\n",
    "data.head(5)"
   ]
  },
  {
   "cell_type": "code",
   "execution_count": 51,
   "id": "2c0f55fc",
   "metadata": {},
   "outputs": [],
   "source": [
    "data.drop(columns=['frequence_rech', 'montant'], inplace=True)"
   ]
  },
  {
   "cell_type": "code",
   "execution_count": 52,
   "id": "b5ae1705",
   "metadata": {},
   "outputs": [
    {
     "data": {
      "text/plain": [
       "<AxesSubplot:>"
      ]
     },
     "execution_count": 52,
     "metadata": {},
     "output_type": "execute_result"
    },
    {
     "data": {
      "image/png": "[encoded data removed]",
      "text/plain": [
       "<Figure size 1800x720 with 3 Axes>"
      ]
     },
     "metadata": {
      "needs_background": "light"
     },
     "output_type": "display_data"
    }
   ],
   "source": [
    "mno.bar(data)"
   ]
  },
  {
   "cell_type": "code",
   "execution_count": 53,
   "id": "5fd80134",
   "metadata": {},
   "outputs": [],
   "source": [
    "data['top_pack']=data['top_pack'].factorize()[0]\n",
    "# -1 is nan values in 'top_pack'\n",
    "data['top_pack'].replace({-1: np.nan }, inplace=True)"
   ]
  },
  {
   "cell_type": "markdown",
   "id": "2aff9e73",
   "metadata": {},
   "source": [
    "### 'top_pack' and 'freq_top_pack' columns"
   ]
  },
  {
   "cell_type": "code",
   "execution_count": 54,
   "id": "45d8f576",
   "metadata": {},
   "outputs": [],
   "source": [
    "cols = ['regularity', 'frequence', 'top_pack', 'freq_top_pack']\n",
    "X2 = data[cols]"
   ]
  },
  {
   "cell_type": "code",
   "execution_count": 55,
   "id": "f7f4df88",
   "metadata": {},
   "outputs": [
    {
     "data": {
      "text/html": [
       "<div>\n",
       "<style scoped>\n",
       "    .dataframe tbody tr th:only-of-type {\n",
       "        vertical-align: middle;\n",
       "    }\n",
       "\n",
       "    .dataframe tbody tr th {\n",
       "        vertical-align: top;\n",
       "    }\n",
       "\n",
       "    .dataframe thead th {\n",
       "        text-align: right;\n",
       "    }\n",
       "</style>\n",
       "<table border=\"1\" class=\"dataframe\">\n",
       "  <thead>\n",
       "    <tr style=\"text-align: right;\">\n",
       "      <th></th>\n",
       "      <th>regularity</th>\n",
       "      <th>frequence</th>\n",
       "      <th>top_pack1</th>\n",
       "      <th>freq_top_pack1</th>\n",
       "    </tr>\n",
       "  </thead>\n",
       "  <tbody>\n",
       "    <tr>\n",
       "      <th>0</th>\n",
       "      <td>54.0</td>\n",
       "      <td>17.0</td>\n",
       "      <td>0.000000</td>\n",
       "      <td>8.000000</td>\n",
       "    </tr>\n",
       "    <tr>\n",
       "      <th>1</th>\n",
       "      <td>17.0</td>\n",
       "      <td>2.0</td>\n",
       "      <td>1.000000</td>\n",
       "      <td>1.000000</td>\n",
       "    </tr>\n",
       "    <tr>\n",
       "      <th>2</th>\n",
       "      <td>11.0</td>\n",
       "      <td>1.0</td>\n",
       "      <td>2.000000</td>\n",
       "      <td>2.000000</td>\n",
       "    </tr>\n",
       "    <tr>\n",
       "      <th>3</th>\n",
       "      <td>31.0</td>\n",
       "      <td>12.0</td>\n",
       "      <td>7.628829</td>\n",
       "      <td>5.832477</td>\n",
       "    </tr>\n",
       "    <tr>\n",
       "      <th>4</th>\n",
       "      <td>62.0</td>\n",
       "      <td>36.0</td>\n",
       "      <td>0.000000</td>\n",
       "      <td>11.000000</td>\n",
       "    </tr>\n",
       "    <tr>\n",
       "      <th>...</th>\n",
       "      <td>...</td>\n",
       "      <td>...</td>\n",
       "      <td>...</td>\n",
       "      <td>...</td>\n",
       "    </tr>\n",
       "    <tr>\n",
       "      <th>1209376</th>\n",
       "      <td>20.0</td>\n",
       "      <td>10.0</td>\n",
       "      <td>2.000000</td>\n",
       "      <td>2.000000</td>\n",
       "    </tr>\n",
       "    <tr>\n",
       "      <th>1209377</th>\n",
       "      <td>4.0</td>\n",
       "      <td>2.0</td>\n",
       "      <td>6.000000</td>\n",
       "      <td>2.000000</td>\n",
       "    </tr>\n",
       "    <tr>\n",
       "      <th>1209378</th>\n",
       "      <td>52.0</td>\n",
       "      <td>7.0</td>\n",
       "      <td>3.000000</td>\n",
       "      <td>4.000000</td>\n",
       "    </tr>\n",
       "    <tr>\n",
       "      <th>1209379</th>\n",
       "      <td>15.0</td>\n",
       "      <td>10.0</td>\n",
       "      <td>24.000000</td>\n",
       "      <td>6.000000</td>\n",
       "    </tr>\n",
       "    <tr>\n",
       "      <th>1209380</th>\n",
       "      <td>29.0</td>\n",
       "      <td>23.0</td>\n",
       "      <td>4.000000</td>\n",
       "      <td>11.000000</td>\n",
       "    </tr>\n",
       "  </tbody>\n",
       "</table>\n",
       "<p>1209381 rows × 4 columns</p>\n",
       "</div>"
      ],
      "text/plain": [
       "         regularity  frequence  top_pack1  freq_top_pack1\n",
       "0              54.0       17.0   0.000000        8.000000\n",
       "1              17.0        2.0   1.000000        1.000000\n",
       "2              11.0        1.0   2.000000        2.000000\n",
       "3              31.0       12.0   7.628829        5.832477\n",
       "4              62.0       36.0   0.000000       11.000000\n",
       "...             ...        ...        ...             ...\n",
       "1209376        20.0       10.0   2.000000        2.000000\n",
       "1209377         4.0        2.0   6.000000        2.000000\n",
       "1209378        52.0        7.0   3.000000        4.000000\n",
       "1209379        15.0       10.0  24.000000        6.000000\n",
       "1209380        29.0       23.0   4.000000       11.000000\n",
       "\n",
       "[1209381 rows x 4 columns]"
      ]
     },
     "execution_count": 55,
     "metadata": {},
     "output_type": "execute_result"
    }
   ],
   "source": [
    "impute_it2 = IterativeImputer(max_iter=10, random_state=42)\n",
    "impute_it2 = impute_it2.fit_transform(X2)\n",
    "m = pd.DataFrame(impute_it2, columns=cols)\n",
    "m.rename({'top_pack': 'top_pack1'}, axis=1, inplace=True)\n",
    "m.rename({'freq_top_pack': 'freq_top_pack1'}, axis=1, inplace=True)\n",
    "m"
   ]
  },
  {
   "cell_type": "code",
   "execution_count": 56,
   "id": "9c3fd810",
   "metadata": {},
   "outputs": [],
   "source": [
    "data.drop('key_0', axis=1, inplace=True)"
   ]
  },
  {
   "cell_type": "code",
   "execution_count": 57,
   "id": "acfc65e4",
   "metadata": {},
   "outputs": [],
   "source": [
    "extracted_col = m[[\"top_pack1\", 'freq_top_pack1']]\n",
    "data = data.merge(extracted_col, on=data.user_id)"
   ]
  },
  {
   "cell_type": "code",
   "execution_count": 58,
   "id": "ccc47762",
   "metadata": {},
   "outputs": [
    {
     "data": {
      "text/plain": [
       "key_0                   0\n",
       "user_id                 0\n",
       "region             315392\n",
       "tenure                  0\n",
       "revenue                 0\n",
       "frequence               0\n",
       "data_volume        453589\n",
       "on_net             190122\n",
       "orange             202898\n",
       "tigo               593764\n",
       "regularity              0\n",
       "churn                   0\n",
       "tenure1                 0\n",
       "frequence_rech1         0\n",
       "montant1                0\n",
       "top_pack1               0\n",
       "freq_top_pack1          0\n",
       "dtype: int64"
      ]
     },
     "execution_count": 58,
     "metadata": {},
     "output_type": "execute_result"
    }
   ],
   "source": [
    "data.drop(columns=['top_pack', 'freq_top_pack'], axis=1, inplace=True)\n",
    "data.isnull().sum()"
   ]
  },
  {
   "cell_type": "markdown",
   "id": "a2aaa419",
   "metadata": {},
   "source": [
    "## hhhhhhhhhhhhhhhh"
   ]
  },
  {
   "cell_type": "code",
   "execution_count": 59,
   "id": "ab5df55b",
   "metadata": {},
   "outputs": [],
   "source": [
    "data.drop(columns=['user_id', 'tenure'], inplace=True)"
   ]
  },
  {
   "cell_type": "markdown",
   "id": "e22056b5",
   "metadata": {},
   "source": [
    "## 'data_volume' column"
   ]
  },
  {
   "cell_type": "code",
   "execution_count": 60,
   "id": "08b3a05f",
   "metadata": {},
   "outputs": [],
   "source": [
    "from sklearn.feature_selection import RFE\n",
    "from sklearn.linear_model import LinearRegression"
   ]
  },
  {
   "cell_type": "code",
   "execution_count": 61,
   "id": "7a7cda90",
   "metadata": {},
   "outputs": [],
   "source": [
    "lr = LinearRegression()\n",
    "list1=['tigo', 'data_volume', 'on_net', 'orange', 'key_0', 'region', 'churn']\n",
    "testdf = data[data['data_volume'].isnull()==True]\n",
    "traindf = data[data['data_volume'].isnull()==False]\n",
    "y = traindf['data_volume']\n",
    "traindf.drop(columns=list1,axis=1,inplace=True)\n",
    "lr.fit(traindf,y)\n",
    "testdf.drop(columns=list1,axis=1,inplace=True)\n",
    "pred = lr.predict(testdf)\n",
    "testdf['data_volume']= pred"
   ]
  },
  {
   "cell_type": "code",
   "execution_count": 62,
   "id": "1560ee4e",
   "metadata": {},
   "outputs": [
    {
     "data": {
      "text/html": [
       "<div>\n",
       "<style scoped>\n",
       "    .dataframe tbody tr th:only-of-type {\n",
       "        vertical-align: middle;\n",
       "    }\n",
       "\n",
       "    .dataframe tbody tr th {\n",
       "        vertical-align: top;\n",
       "    }\n",
       "\n",
       "    .dataframe thead th {\n",
       "        text-align: right;\n",
       "    }\n",
       "</style>\n",
       "<table border=\"1\" class=\"dataframe\">\n",
       "  <thead>\n",
       "    <tr style=\"text-align: right;\">\n",
       "      <th></th>\n",
       "      <th>key_0</th>\n",
       "      <th>region</th>\n",
       "      <th>revenue</th>\n",
       "      <th>frequence</th>\n",
       "      <th>data_volume_x</th>\n",
       "      <th>on_net</th>\n",
       "      <th>orange</th>\n",
       "      <th>tigo</th>\n",
       "      <th>regularity</th>\n",
       "      <th>churn</th>\n",
       "      <th>tenure1</th>\n",
       "      <th>frequence_rech1</th>\n",
       "      <th>montant1</th>\n",
       "      <th>top_pack1</th>\n",
       "      <th>freq_top_pack1</th>\n",
       "      <th>data_volume_y</th>\n",
       "    </tr>\n",
       "  </thead>\n",
       "  <tbody>\n",
       "    <tr>\n",
       "      <th>0</th>\n",
       "      <td>00000bfd7d50f01092811bc0c8d7b0d6fe7c3596</td>\n",
       "      <td>FATICK</td>\n",
       "      <td>4251.0</td>\n",
       "      <td>17.0</td>\n",
       "      <td>4.0</td>\n",
       "      <td>388.0</td>\n",
       "      <td>46.0</td>\n",
       "      <td>1.0</td>\n",
       "      <td>54</td>\n",
       "      <td>0</td>\n",
       "      <td>7.0</td>\n",
       "      <td>15.0</td>\n",
       "      <td>4250.0</td>\n",
       "      <td>0.000000</td>\n",
       "      <td>8.000000</td>\n",
       "      <td>4.000000</td>\n",
       "    </tr>\n",
       "    <tr>\n",
       "      <th>1</th>\n",
       "      <td>00001654a9d9f96303d9969d0a4a851714a4bb57</td>\n",
       "      <td>NaN</td>\n",
       "      <td>1020.0</td>\n",
       "      <td>2.0</td>\n",
       "      <td>NaN</td>\n",
       "      <td>90.0</td>\n",
       "      <td>46.0</td>\n",
       "      <td>7.0</td>\n",
       "      <td>17</td>\n",
       "      <td>0</td>\n",
       "      <td>7.0</td>\n",
       "      <td>2.0</td>\n",
       "      <td>3600.0</td>\n",
       "      <td>1.000000</td>\n",
       "      <td>1.000000</td>\n",
       "      <td>439.918149</td>\n",
       "    </tr>\n",
       "    <tr>\n",
       "      <th>2</th>\n",
       "      <td>000028d9e13a595abe061f9b58f3d76ab907850f</td>\n",
       "      <td>DAKAR</td>\n",
       "      <td>985.0</td>\n",
       "      <td>1.0</td>\n",
       "      <td>NaN</td>\n",
       "      <td>39.0</td>\n",
       "      <td>24.0</td>\n",
       "      <td>NaN</td>\n",
       "      <td>11</td>\n",
       "      <td>0</td>\n",
       "      <td>7.0</td>\n",
       "      <td>1.0</td>\n",
       "      <td>1000.0</td>\n",
       "      <td>2.000000</td>\n",
       "      <td>2.000000</td>\n",
       "      <td>443.580494</td>\n",
       "    </tr>\n",
       "    <tr>\n",
       "      <th>3</th>\n",
       "      <td>0000398021ccd3a488fa1a63dee3b2f0d471f9fd</td>\n",
       "      <td>DAKAR</td>\n",
       "      <td>1502.0</td>\n",
       "      <td>12.0</td>\n",
       "      <td>NaN</td>\n",
       "      <td>2.0</td>\n",
       "      <td>53.0</td>\n",
       "      <td>2.0</td>\n",
       "      <td>31</td>\n",
       "      <td>0</td>\n",
       "      <td>7.0</td>\n",
       "      <td>3.0</td>\n",
       "      <td>1500.0</td>\n",
       "      <td>7.628829</td>\n",
       "      <td>5.832477</td>\n",
       "      <td>1267.318209</td>\n",
       "    </tr>\n",
       "    <tr>\n",
       "      <th>4</th>\n",
       "      <td>00005b7c61f811e4eef1a05903a4b700afd23e46</td>\n",
       "      <td>KAOLACK</td>\n",
       "      <td>11870.0</td>\n",
       "      <td>36.0</td>\n",
       "      <td>8453.0</td>\n",
       "      <td>431.0</td>\n",
       "      <td>66.0</td>\n",
       "      <td>6.0</td>\n",
       "      <td>62</td>\n",
       "      <td>0</td>\n",
       "      <td>7.0</td>\n",
       "      <td>27.0</td>\n",
       "      <td>12650.0</td>\n",
       "      <td>0.000000</td>\n",
       "      <td>11.000000</td>\n",
       "      <td>8453.000000</td>\n",
       "    </tr>\n",
       "    <tr>\n",
       "      <th>...</th>\n",
       "      <td>...</td>\n",
       "      <td>...</td>\n",
       "      <td>...</td>\n",
       "      <td>...</td>\n",
       "      <td>...</td>\n",
       "      <td>...</td>\n",
       "      <td>...</td>\n",
       "      <td>...</td>\n",
       "      <td>...</td>\n",
       "      <td>...</td>\n",
       "      <td>...</td>\n",
       "      <td>...</td>\n",
       "      <td>...</td>\n",
       "      <td>...</td>\n",
       "      <td>...</td>\n",
       "      <td>...</td>\n",
       "    </tr>\n",
       "    <tr>\n",
       "      <th>1209376</th>\n",
       "      <td>fffd001329be40a6ed312c5b9c3467bb49972b48</td>\n",
       "      <td>DAKAR</td>\n",
       "      <td>1211.0</td>\n",
       "      <td>10.0</td>\n",
       "      <td>170.0</td>\n",
       "      <td>6.0</td>\n",
       "      <td>21.0</td>\n",
       "      <td>1.0</td>\n",
       "      <td>20</td>\n",
       "      <td>0</td>\n",
       "      <td>7.0</td>\n",
       "      <td>7.0</td>\n",
       "      <td>1600.0</td>\n",
       "      <td>2.000000</td>\n",
       "      <td>2.000000</td>\n",
       "      <td>170.000000</td>\n",
       "    </tr>\n",
       "    <tr>\n",
       "      <th>1209377</th>\n",
       "      <td>fffe4dfd57392c8d7ddfd48cb51bef3c8adb0892</td>\n",
       "      <td>NaN</td>\n",
       "      <td>991.0</td>\n",
       "      <td>2.0</td>\n",
       "      <td>1507.0</td>\n",
       "      <td>NaN</td>\n",
       "      <td>0.0</td>\n",
       "      <td>NaN</td>\n",
       "      <td>4</td>\n",
       "      <td>0</td>\n",
       "      <td>4.0</td>\n",
       "      <td>2.0</td>\n",
       "      <td>1000.0</td>\n",
       "      <td>6.000000</td>\n",
       "      <td>2.000000</td>\n",
       "      <td>1507.000000</td>\n",
       "    </tr>\n",
       "    <tr>\n",
       "      <th>1209378</th>\n",
       "      <td>fffe5c84e3db939182ee2a3a3123920025eca8a3</td>\n",
       "      <td>SAINT-LOUIS</td>\n",
       "      <td>3299.0</td>\n",
       "      <td>7.0</td>\n",
       "      <td>NaN</td>\n",
       "      <td>80.0</td>\n",
       "      <td>80.0</td>\n",
       "      <td>NaN</td>\n",
       "      <td>52</td>\n",
       "      <td>0</td>\n",
       "      <td>7.0</td>\n",
       "      <td>7.0</td>\n",
       "      <td>3300.0</td>\n",
       "      <td>3.000000</td>\n",
       "      <td>4.000000</td>\n",
       "      <td>1474.405402</td>\n",
       "    </tr>\n",
       "    <tr>\n",
       "      <th>1209379</th>\n",
       "      <td>ffff0dcc1ab9812bf205b6d76e9d084053cd96f5</td>\n",
       "      <td>NaN</td>\n",
       "      <td>3949.0</td>\n",
       "      <td>10.0</td>\n",
       "      <td>1724.0</td>\n",
       "      <td>25.0</td>\n",
       "      <td>71.0</td>\n",
       "      <td>NaN</td>\n",
       "      <td>15</td>\n",
       "      <td>0</td>\n",
       "      <td>7.0</td>\n",
       "      <td>7.0</td>\n",
       "      <td>3950.0</td>\n",
       "      <td>24.000000</td>\n",
       "      <td>6.000000</td>\n",
       "      <td>1724.000000</td>\n",
       "    </tr>\n",
       "    <tr>\n",
       "      <th>1209380</th>\n",
       "      <td>ffff91ea6a09a0c8ea42bc6ae33df4b5e06283dc</td>\n",
       "      <td>NaN</td>\n",
       "      <td>3955.0</td>\n",
       "      <td>23.0</td>\n",
       "      <td>2962.0</td>\n",
       "      <td>0.0</td>\n",
       "      <td>7.0</td>\n",
       "      <td>NaN</td>\n",
       "      <td>29</td>\n",
       "      <td>0</td>\n",
       "      <td>7.0</td>\n",
       "      <td>18.0</td>\n",
       "      <td>3850.0</td>\n",
       "      <td>4.000000</td>\n",
       "      <td>11.000000</td>\n",
       "      <td>2962.000000</td>\n",
       "    </tr>\n",
       "  </tbody>\n",
       "</table>\n",
       "<p>1209381 rows × 16 columns</p>\n",
       "</div>"
      ],
      "text/plain": [
       "                                            key_0       region  revenue  \\\n",
       "0        00000bfd7d50f01092811bc0c8d7b0d6fe7c3596       FATICK   4251.0   \n",
       "1        00001654a9d9f96303d9969d0a4a851714a4bb57          NaN   1020.0   \n",
       "2        000028d9e13a595abe061f9b58f3d76ab907850f        DAKAR    985.0   \n",
       "3        0000398021ccd3a488fa1a63dee3b2f0d471f9fd        DAKAR   1502.0   \n",
       "4        00005b7c61f811e4eef1a05903a4b700afd23e46      KAOLACK  11870.0   \n",
       "...                                           ...          ...      ...   \n",
       "1209376  fffd001329be40a6ed312c5b9c3467bb49972b48        DAKAR   1211.0   \n",
       "1209377  fffe4dfd57392c8d7ddfd48cb51bef3c8adb0892          NaN    991.0   \n",
       "1209378  fffe5c84e3db939182ee2a3a3123920025eca8a3  SAINT-LOUIS   3299.0   \n",
       "1209379  ffff0dcc1ab9812bf205b6d76e9d084053cd96f5          NaN   3949.0   \n",
       "1209380  ffff91ea6a09a0c8ea42bc6ae33df4b5e06283dc          NaN   3955.0   \n",
       "\n",
       "         frequence  data_volume_x  on_net  orange  tigo  regularity  churn  \\\n",
       "0             17.0            4.0   388.0    46.0   1.0          54      0   \n",
       "1              2.0            NaN    90.0    46.0   7.0          17      0   \n",
       "2              1.0            NaN    39.0    24.0   NaN          11      0   \n",
       "3             12.0            NaN     2.0    53.0   2.0          31      0   \n",
       "4             36.0         8453.0   431.0    66.0   6.0          62      0   \n",
       "...            ...            ...     ...     ...   ...         ...    ...   \n",
       "1209376       10.0          170.0     6.0    21.0   1.0          20      0   \n",
       "1209377        2.0         1507.0     NaN     0.0   NaN           4      0   \n",
       "1209378        7.0            NaN    80.0    80.0   NaN          52      0   \n",
       "1209379       10.0         1724.0    25.0    71.0   NaN          15      0   \n",
       "1209380       23.0         2962.0     0.0     7.0   NaN          29      0   \n",
       "\n",
       "         tenure1  frequence_rech1  montant1  top_pack1  freq_top_pack1  \\\n",
       "0            7.0             15.0    4250.0   0.000000        8.000000   \n",
       "1            7.0              2.0    3600.0   1.000000        1.000000   \n",
       "2            7.0              1.0    1000.0   2.000000        2.000000   \n",
       "3            7.0              3.0    1500.0   7.628829        5.832477   \n",
       "4            7.0             27.0   12650.0   0.000000       11.000000   \n",
       "...          ...              ...       ...        ...             ...   \n",
       "1209376      7.0              7.0    1600.0   2.000000        2.000000   \n",
       "1209377      4.0              2.0    1000.0   6.000000        2.000000   \n",
       "1209378      7.0              7.0    3300.0   3.000000        4.000000   \n",
       "1209379      7.0              7.0    3950.0  24.000000        6.000000   \n",
       "1209380      7.0             18.0    3850.0   4.000000       11.000000   \n",
       "\n",
       "         data_volume_y  \n",
       "0             4.000000  \n",
       "1           439.918149  \n",
       "2           443.580494  \n",
       "3          1267.318209  \n",
       "4          8453.000000  \n",
       "...                ...  \n",
       "1209376     170.000000  \n",
       "1209377    1507.000000  \n",
       "1209378    1474.405402  \n",
       "1209379    1724.000000  \n",
       "1209380    2962.000000  \n",
       "\n",
       "[1209381 rows x 16 columns]"
      ]
     },
     "execution_count": 62,
     "metadata": {},
     "output_type": "execute_result"
    }
   ],
   "source": [
    "df_out = pd.merge(traindf,y,how = 'left',left_index = True, right_index = True) # rename to traindf1\n",
    "frames = [df_out, testdf]\n",
    "result = pd.concat(frames)\n",
    "data = pd.merge(data,result['data_volume'], how = 'left',left_index = True, right_index = True) \n",
    "data"
   ]
  },
  {
   "cell_type": "code",
   "execution_count": 63,
   "id": "322c0ca4",
   "metadata": {},
   "outputs": [],
   "source": [
    "data.drop('data_volume_x', axis=1, inplace=True)"
   ]
  },
  {
   "cell_type": "markdown",
   "id": "f2ba3d55",
   "metadata": {},
   "source": [
    "## 'on_net' column"
   ]
  },
  {
   "cell_type": "code",
   "execution_count": 64,
   "id": "7662611d",
   "metadata": {},
   "outputs": [],
   "source": [
    "lr = LinearRegression()\n",
    "list1=['on_net', 'orange', 'tigo', 'key_0', 'region', 'churn']\n",
    "testdf = data[data['on_net'].isnull()==True]\n",
    "traindf = data[data['on_net'].isnull()==False]\n",
    "y = traindf['on_net']\n",
    "traindf.drop(columns=list1,axis=1,inplace=True)\n",
    "lr.fit(traindf,y)\n",
    "testdf.drop(columns=list1,axis=1,inplace=True)\n",
    "pred = lr.predict(testdf)\n",
    "testdf['on_net']= pred"
   ]
  },
  {
   "cell_type": "code",
   "execution_count": 65,
   "id": "6d218100",
   "metadata": {},
   "outputs": [],
   "source": [
    "df_out = pd.merge(traindf, y, how = 'left', left_index = True, right_index = True) # rename to traindf1"
   ]
  },
  {
   "cell_type": "code",
   "execution_count": 66,
   "id": "f7496c06",
   "metadata": {},
   "outputs": [],
   "source": [
    "frames = [df_out, testdf]\n",
    "result = pd.concat(frames)\n",
    "data = pd.merge(data, result['on_net'], how = 'left',left_index = True, right_index = True) "
   ]
  },
  {
   "cell_type": "code",
   "execution_count": 67,
   "id": "291dfe2d",
   "metadata": {},
   "outputs": [],
   "source": [
    "data.drop('on_net_x', axis=1, inplace=True)"
   ]
  },
  {
   "cell_type": "markdown",
   "id": "752aed72",
   "metadata": {},
   "source": [
    "## 'tigo' column"
   ]
  },
  {
   "cell_type": "code",
   "execution_count": 68,
   "id": "c69a20dd",
   "metadata": {},
   "outputs": [],
   "source": [
    "cols = ['revenue', 'tenure1', 'regularity', 'frequence', 'tigo']\n",
    "X3 = data[cols]\n",
    "\n",
    "impute_it3 = IterativeImputer(max_iter=10, random_state=42)\n",
    "impute_it3 = impute_it3.fit_transform(X3)\n",
    "m = pd.DataFrame(impute_it3, columns=cols)\n",
    "m.rename({'tigo': 'tigo1'}, axis=1, inplace=True)"
   ]
  },
  {
   "cell_type": "code",
   "execution_count": 69,
   "id": "945c9001",
   "metadata": {},
   "outputs": [],
   "source": [
    "data.drop('key_0', axis=1, inplace=True)\n",
    "data = data.merge(m['tigo1'], on=data.index)\n",
    "data.drop('tigo', axis=1, inplace=True)"
   ]
  },
  {
   "cell_type": "markdown",
   "id": "3e457488",
   "metadata": {},
   "source": [
    "Since initially the type of __'tigo'__ column was integer, I convert it from float to integer type."
   ]
  },
  {
   "cell_type": "code",
   "execution_count": 70,
   "id": "5479fbe1",
   "metadata": {},
   "outputs": [],
   "source": [
    "data['tigo1'] = data['tigo1'].astype('int')"
   ]
  },
  {
   "cell_type": "markdown",
   "id": "b240cfdc",
   "metadata": {},
   "source": [
    "## 'region' column"
   ]
  },
  {
   "cell_type": "code",
   "execution_count": 71,
   "id": "56ddd8c7",
   "metadata": {},
   "outputs": [],
   "source": [
    "data.drop('key_0', axis=1, inplace=True)"
   ]
  },
  {
   "cell_type": "code",
   "execution_count": 72,
   "id": "c92a05f8",
   "metadata": {},
   "outputs": [],
   "source": [
    "data['region']=data['region'].factorize()[0]\n",
    "# replace -1 with NaN value\n",
    "data['region'] = data['region'].replace(-1, np.nan)"
   ]
  },
  {
   "cell_type": "code",
   "execution_count": 73,
   "id": "b66821bf",
   "metadata": {},
   "outputs": [],
   "source": [
    "from sklearn.neighbors import KNeighborsClassifier"
   ]
  },
  {
   "cell_type": "code",
   "execution_count": 74,
   "id": "70208c43",
   "metadata": {},
   "outputs": [],
   "source": [
    "neigh = KNeighborsClassifier(n_neighbors=3)\n",
    "list1=['orange', 'region', 'churn']\n",
    "testdf1 = data[data['region'].isnull()==True]\n",
    "traindf1 = data[data['region'].isnull()==False]\n",
    "y = traindf1['region']\n",
    "traindf1.drop(columns=list1,axis=1,inplace=True)\n",
    "neigh.fit(traindf1,y)\n",
    "testdf1.drop(columns=list1,axis=1,inplace=True)\n",
    "pred = neigh.predict(testdf1)\n",
    "testdf1['region']= pred"
   ]
  },
  {
   "cell_type": "code",
   "execution_count": 75,
   "id": "aa1207d1",
   "metadata": {},
   "outputs": [],
   "source": [
    "df_out = pd.merge(traindf1, y, how = 'left', left_index = True, right_index = True) # rename to traindf1\n",
    "frames = [df_out, testdf1]\n",
    "result = pd.concat(frames)\n",
    "data = pd.merge(data,result['region'], how = 'left',left_index = True, right_index = True) "
   ]
  },
  {
   "cell_type": "code",
   "execution_count": 76,
   "id": "d6951737",
   "metadata": {},
   "outputs": [],
   "source": [
    "data.drop('region_x', axis=1, inplace=True)"
   ]
  },
  {
   "cell_type": "markdown",
   "id": "d6e3a705",
   "metadata": {},
   "source": [
    "## \"orange\" column"
   ]
  },
  {
   "cell_type": "code",
   "execution_count": 78,
   "id": "d8e619f1",
   "metadata": {},
   "outputs": [
    {
     "data": {
      "text/plain": [
       "1.0      70405\n",
       "0.0      63164\n",
       "2.0      50781\n",
       "3.0      36669\n",
       "4.0      34690\n",
       "         ...  \n",
       "230.0      388\n",
       "227.0      385\n",
       "237.0      383\n",
       "236.0      367\n",
       "238.0      355\n",
       "Name: orange, Length: 239, dtype: int64"
      ]
     },
     "execution_count": 78,
     "metadata": {},
     "output_type": "execute_result"
    }
   ],
   "source": [
    "data.orange.value_counts()"
   ]
  },
  {
   "cell_type": "code",
   "execution_count": 79,
   "id": "7fd8e4f7",
   "metadata": {},
   "outputs": [
    {
     "data": {
      "text/plain": [
       "239"
      ]
     },
     "execution_count": 79,
     "metadata": {},
     "output_type": "execute_result"
    }
   ],
   "source": [
    "data.orange.nunique()"
   ]
  },
  {
   "cell_type": "code",
   "execution_count": 80,
   "id": "e2e4d152",
   "metadata": {},
   "outputs": [],
   "source": [
    "lr = LinearRegression()\n",
    "testdf = data[data['orange'].isnull()==True]\n",
    "traindf = data[data['orange'].isnull()==False]\n",
    "y = traindf['orange']\n",
    "traindf.drop(['orange', 'churn'],axis=1,inplace=True)\n",
    "lr.fit(traindf,y)\n",
    "testdf.drop(['orange', 'churn'],axis=1,inplace=True)\n",
    "pred = lr.predict(testdf)\n",
    "testdf['orange']= pred"
   ]
  },
  {
   "cell_type": "code",
   "execution_count": 81,
   "id": "3cef718a",
   "metadata": {},
   "outputs": [],
   "source": [
    "df_out = pd.merge(traindf, y, how = 'left', left_index = True, right_index = True) # rename to traindf1\n",
    "frames = [df_out, testdf]\n",
    "result = pd.concat(frames)\n",
    "data = pd.merge(data, result['orange'], how = 'left',left_index = True, right_index = True) "
   ]
  },
  {
   "cell_type": "code",
   "execution_count": 82,
   "id": "6debc4ba",
   "metadata": {},
   "outputs": [],
   "source": [
    "data.drop('orange_x', axis=1, inplace=True)"
   ]
  },
  {
   "cell_type": "code",
   "execution_count": 83,
   "id": "24770247",
   "metadata": {},
   "outputs": [
    {
     "data": {
      "text/plain": [
       "revenue            0\n",
       "frequence          0\n",
       "regularity         0\n",
       "churn              0\n",
       "tenure1            0\n",
       "frequence_rech1    0\n",
       "montant1           0\n",
       "top_pack1          0\n",
       "freq_top_pack1     0\n",
       "data_volume_y      0\n",
       "on_net_y           0\n",
       "tigo1              0\n",
       "region_y           0\n",
       "orange_y           0\n",
       "dtype: int64"
      ]
     },
     "execution_count": 83,
     "metadata": {},
     "output_type": "execute_result"
    }
   ],
   "source": [
    "data.isnull().sum()"
   ]
  },
  {
   "cell_type": "markdown",
   "id": "61d01948",
   "metadata": {},
   "source": [
    "## Algorithms which handle missing values\n",
    "Some algprithms like XGBoost and LightGBM can handle missing values without any preprocessing, by supplying relevant parameters.\n",
    "\n",
    "- #### XGBoost\n",
    "\n",
    "- #### LightGBm"
   ]
  },
  {
   "cell_type": "markdown",
   "id": "16d67188",
   "metadata": {},
   "source": [
    "## XGBoost"
   ]
  },
  {
   "cell_type": "code",
   "execution_count": 84,
   "id": "0239f543",
   "metadata": {},
   "outputs": [
    {
     "name": "stdout",
     "output_type": "stream",
     "text": [
      "Requirement already satisfied: xgboost in c:\\users\\acer\\anaconda3\\lib\\site-packages (1.6.1)\n",
      "Requirement already satisfied: scipy in c:\\users\\acer\\anaconda3\\lib\\site-packages (from xgboost) (1.6.2)\n",
      "Requirement already satisfied: numpy in c:\\users\\acer\\anaconda3\\lib\\site-packages (from xgboost) (1.22.3)\n",
      "Note: you may need to restart the kernel to use updated packages.\n"
     ]
    }
   ],
   "source": [
    "pip install xgboost"
   ]
  },
  {
   "cell_type": "code",
   "execution_count": 85,
   "id": "9c85cc1a",
   "metadata": {},
   "outputs": [],
   "source": [
    "from numpy import loadtxt\n",
    "from xgboost import XGBClassifier\n",
    "from sklearn.model_selection import train_test_split\n",
    "from sklearn.metrics import accuracy_score"
   ]
  },
  {
   "cell_type": "code",
   "execution_count": 86,
   "id": "82478543",
   "metadata": {},
   "outputs": [],
   "source": [
    "X = data.drop('churn', axis=1)\n",
    "Y = data.churn\n",
    "\n",
    "X_train, X_test, y_train, y_test = train_test_split(X, Y, test_size=0.33, random_state=42)"
   ]
  },
  {
   "cell_type": "code",
   "execution_count": 87,
   "id": "649658f3",
   "metadata": {},
   "outputs": [
    {
     "name": "stdout",
     "output_type": "stream",
     "text": [
      "Accuracy: 94.27%\n"
     ]
    }
   ],
   "source": [
    "model = XGBClassifier()\n",
    "model.fit(X_train, y_train)\n",
    "y_pred = model.predict(X_test)\n",
    "predictions = [round(value) for value in y_pred]\n",
    "accuracy = accuracy_score(y_test, predictions)\n",
    "\n",
    "print(\"Accuracy: %.2f%%\" % (accuracy * 100.0))"
   ]
  },
  {
   "cell_type": "markdown",
   "id": "50d09ad3",
   "metadata": {},
   "source": [
    "We can see 94.27% accuracy, we are getting very high accuracy because it is predicting mostly the majority class"
   ]
  },
  {
   "cell_type": "markdown",
   "id": "954c3e17",
   "metadata": {},
   "source": [
    "## Dealing with imbalance\n",
    "[Dealinng with an imbalance](https://www.kaggle.com/code/prasathm2001/undersampling-in-wine-quality)"
   ]
  },
  {
   "cell_type": "markdown",
   "id": "6e1e3f68",
   "metadata": {},
   "source": [
    "### Undersampling method\n",
    "__Undersampling__ - downsize the majority class to balance with the minority class.\n",
    "\n",
    "- **Simple random undersampling:** the basic approach of random sampling from the majority class.\n",
    "- **Undersampling using K-Means:** synthesize based on the cluster centroids.\n",
    "- **Undersampling using Tomek links**: detects and removes samples from Tomek links"
   ]
  },
  {
   "cell_type": "markdown",
   "id": "b71d6e2c",
   "metadata": {},
   "source": [
    "https://www.justintodata.com/imbalanced-data-machine-learning-classification/"
   ]
  },
  {
   "cell_type": "code",
   "execution_count": 88,
   "id": "8a0426af",
   "metadata": {},
   "outputs": [],
   "source": [
    "from sklearn.model_selection import train_test_split"
   ]
  },
  {
   "cell_type": "code",
   "execution_count": 89,
   "id": "940327d2",
   "metadata": {},
   "outputs": [
    {
     "data": {
      "text/plain": [
       "revenue            int32\n",
       "frequence          int32\n",
       "regularity         int32\n",
       "churn              int32\n",
       "tenure1            int32\n",
       "frequence_rech1    int32\n",
       "montant1           int32\n",
       "top_pack1          int32\n",
       "freq_top_pack1     int32\n",
       "data_volume_y      int32\n",
       "on_net_y           int32\n",
       "tigo1              int32\n",
       "region_y           int32\n",
       "orange_y           int32\n",
       "dtype: object"
      ]
     },
     "execution_count": 89,
     "metadata": {},
     "output_type": "execute_result"
    }
   ],
   "source": [
    "data=data.astype('int32')\n",
    "data.dtypes"
   ]
  },
  {
   "cell_type": "code",
   "execution_count": 90,
   "id": "d3004d93",
   "metadata": {},
   "outputs": [],
   "source": [
    "X = data.drop(columns=['churn'], axis=1)\n",
    "Y = data.churn\n",
    "\n",
    "X_train, X_test, y_train, y_test = train_test_split(X, Y, test_size=0.33, random_state=42)"
   ]
  },
  {
   "cell_type": "code",
   "execution_count": 91,
   "id": "6afe4c14",
   "metadata": {},
   "outputs": [],
   "source": [
    "# from imblearn.combine import SMOTETomek\n",
    "\n",
    "# smote_tomek = SMOTETomek(random_state=888)\n",
    "# X_train, y_train = smote_tomek.fit_resample(X_train, y_train)\n",
    "# y_train.value_counts()"
   ]
  },
  {
   "cell_type": "markdown",
   "id": "3139e77f",
   "metadata": {},
   "source": [
    "### Undersampling"
   ]
  },
  {
   "cell_type": "markdown",
   "id": "2569b881",
   "metadata": {},
   "source": [
    "Undersample method suits the best because, we have got too many observations."
   ]
  },
  {
   "cell_type": "code",
   "execution_count": 92,
   "id": "8dfa77f3",
   "metadata": {},
   "outputs": [
    {
     "data": {
      "text/plain": [
       "0    47341\n",
       "1    47341\n",
       "Name: churn, dtype: int64"
      ]
     },
     "execution_count": 92,
     "metadata": {},
     "output_type": "execute_result"
    }
   ],
   "source": [
    "from sklearn.datasets import make_classification\n",
    "from imblearn.under_sampling import RandomUnderSampler\n",
    "\n",
    "undersample = RandomUnderSampler(sampling_strategy='majority')\n",
    "X_train, y_train = undersample.fit_resample(X_train, y_train)\n",
    "y_train.value_counts()"
   ]
  },
  {
   "cell_type": "markdown",
   "id": "6767632f",
   "metadata": {},
   "source": [
    "# Models"
   ]
  },
  {
   "cell_type": "markdown",
   "id": "4e49d7ed",
   "metadata": {},
   "source": [
    "### Linear Models:\n",
    " \n",
    "- Logistic Regression\n",
    "- Support Vector Machines\n",
    "\n",
    " \n",
    "\n",
    "### Non-linear Models:\n",
    "    \n",
    "- K-Nearest Neighbours\n",
    "- Kernel SVM\n",
    "- Naïve Bayes\n",
    "- Decision Tree Classification\n",
    "- Random Forest Classification"
   ]
  },
  {
   "cell_type": "code",
   "execution_count": 93,
   "id": "3b617840",
   "metadata": {},
   "outputs": [],
   "source": [
    "from sklearn.metrics import accuracy_score, precision_score, recall_score, f1_score, classification_report,confusion_matrix, ConfusionMatrixDisplay\n",
    "from sklearn.metrics import roc_auc_score\n",
    "from sklearn.metrics import balanced_accuracy_score\n",
    "from sklearn.metrics import plot_roc_curve\n",
    "import sklearn.metrics as metrics\n",
    "import matplotlib.pyplot as plt\n",
    "\n",
    "\n",
    "def modeling1(alg, params={}):\n",
    "    #Instantiating the algorithm class and unpacking parameters if any\n",
    "    model = alg(**params) \n",
    "    model.fit(X_train, y_train)\n",
    "    y_pred = model.predict(X_test)\n",
    "    \n",
    "    print(classification_report(y_test, y_pred) )\n",
    "    \n",
    "    #Performance evaluation\n",
    "    def print_scores(alg, y_true, y_pred):\n",
    "        print(F'Accuracy:',accuracy_score(y_true, y_pred))\n",
    "        print(F'Precision:', precision_score(y_true, y_pred))\n",
    "        print(F'Recall:', recall_score(y_true, y_pred))\n",
    "        print(F'F1 Score:', f1_score(y_true, y_pred))\n",
    "    print_scores(alg, y_test, y_pred)\n",
    "    \n",
    "    cm = confusion_matrix(y_test, y_pred)\n",
    "    #Create the Confusion Matrix Display Object(cmd_obj). \n",
    "    print('Confusion matrix:')\n",
    "    print(cm)\n",
    "    cmd_obj = ConfusionMatrixDisplay(cm, display_labels=['churn', 'notChurn'])\n",
    "\n",
    "    #The plot() function has to be called for the sklearn visualization\n",
    "    cmd_obj.plot()\n",
    "\n",
    "    #Use the Axes attribute 'ax_' to get to the underlying Axes object.\n",
    "    #The Axes object controls the labels for the X and the Y axes. It also controls the title.\n",
    "    cmd_obj.ax_.set(\n",
    "                    title='Sklearn Confusion Matrix with labels!!', \n",
    "                    xlabel='Predicted Churn', \n",
    "                    ylabel='Actual Churn')\n",
    "    #Finally, call the matplotlib show() function to display the visualization of the Confusion Matrix.\n",
    "    plt.show()\n",
    "    plot_roc_curve(model, X_test, y_test)\n",
    "    plt.title('ROC Curve')\n",
    "    plt.plot([0, 1], [0, 1], 'r--')\n",
    "    plt.show()\n",
    "    \n",
    "    return model"
   ]
  },
  {
   "cell_type": "code",
   "execution_count": 94,
   "id": "b8c292d7",
   "metadata": {},
   "outputs": [],
   "source": [
    "from sklearn.preprocessing import StandardScaler\n",
    "\n",
    "sc = StandardScaler()\n",
    "X_train = sc.fit_transform(X_train)\n",
    "X_test = sc.transform(X_test)"
   ]
  },
  {
   "cell_type": "markdown",
   "id": "6ca80820",
   "metadata": {},
   "source": [
    "## Logistic Regression"
   ]
  },
  {
   "cell_type": "code",
   "execution_count": 95,
   "id": "50a032f7",
   "metadata": {},
   "outputs": [],
   "source": [
    "from sklearn.linear_model import LogisticRegression"
   ]
  },
  {
   "cell_type": "code",
   "execution_count": 96,
   "id": "3e73cd15",
   "metadata": {},
   "outputs": [
    {
     "name": "stdout",
     "output_type": "stream",
     "text": [
      "              precision    recall  f1-score   support\n",
      "\n",
      "           0       0.99      0.72      0.84    375651\n",
      "           1       0.16      0.83      0.27     23445\n",
      "\n",
      "    accuracy                           0.73    399096\n",
      "   macro avg       0.57      0.78      0.55    399096\n",
      "weighted avg       0.94      0.73      0.80    399096\n",
      "\n",
      "Accuracy: 0.7308742758634514\n",
      "Precision: 0.15788444299568088\n",
      "Recall: 0.8263595649392195\n",
      "F1 Score: 0.2651158017173549\n",
      "Confusion matrix:\n",
      "[[272315 103336]\n",
      " [  4071  19374]]\n"
     ]
    },
    {
     "data": {
      "image/png": "[encoded data removed]",
      "text/plain": [
       "<Figure size 432x288 with 2 Axes>"
      ]
     },
     "metadata": {
      "needs_background": "light"
     },
     "output_type": "display_data"
    },
    {
     "data": {
      "image/png": "[encoded data removed]",
      "text/plain": [
       "<Figure size 432x288 with 1 Axes>"
      ]
     },
     "metadata": {
      "needs_background": "light"
     },
     "output_type": "display_data"
    }
   ],
   "source": [
    "logreg = modeling1(LogisticRegression)"
   ]
  },
  {
   "cell_type": "markdown",
   "id": "eebd6653",
   "metadata": {},
   "source": [
    "## Decision Tree"
   ]
  },
  {
   "cell_type": "code",
   "execution_count": 97,
   "id": "745dc0af",
   "metadata": {},
   "outputs": [],
   "source": [
    "from sklearn.tree import DecisionTreeClassifier"
   ]
  },
  {
   "cell_type": "code",
   "execution_count": 98,
   "id": "ddf15ae1",
   "metadata": {},
   "outputs": [
    {
     "name": "stdout",
     "output_type": "stream",
     "text": [
      "              precision    recall  f1-score   support\n",
      "\n",
      "           0       0.97      0.69      0.81    375651\n",
      "           1       0.12      0.70      0.21     23445\n",
      "\n",
      "    accuracy                           0.70    399096\n",
      "   macro avg       0.55      0.70      0.51    399096\n",
      "weighted avg       0.92      0.70      0.78    399096\n",
      "\n",
      "Accuracy: 0.6950032072483814\n",
      "Precision: 0.12468111757786841\n",
      "Recall: 0.6962678609511623\n",
      "F1 Score: 0.21149050015870857\n",
      "Confusion matrix:\n",
      "[[261049 114602]\n",
      " [  7121  16324]]\n"
     ]
    },
    {
     "data": {
      "image/png": "[encoded data removed]",
      "text/plain": [
       "<Figure size 432x288 with 2 Axes>"
      ]
     },
     "metadata": {
      "needs_background": "light"
     },
     "output_type": "display_data"
    },
    {
     "data": {
      "image/png": "[encoded data removed]",
      "text/plain": [
       "<Figure size 432x288 with 1 Axes>"
      ]
     },
     "metadata": {
      "needs_background": "light"
     },
     "output_type": "display_data"
    }
   ],
   "source": [
    "tree = modeling1(DecisionTreeClassifier)"
   ]
  },
  {
   "cell_type": "markdown",
   "id": "8b265a5e",
   "metadata": {},
   "source": [
    "## KNN"
   ]
  },
  {
   "cell_type": "code",
   "execution_count": 99,
   "id": "a4669191",
   "metadata": {},
   "outputs": [],
   "source": [
    "from sklearn.neighbors import KNeighborsClassifier"
   ]
  },
  {
   "cell_type": "code",
   "execution_count": 100,
   "id": "5bf08ff7",
   "metadata": {},
   "outputs": [],
   "source": [
    "# knn = modeling1(KNeighborsClassifier)"
   ]
  },
  {
   "cell_type": "markdown",
   "id": "e435e07d",
   "metadata": {},
   "source": [
    "## Random Forest Classifier"
   ]
  },
  {
   "cell_type": "code",
   "execution_count": 101,
   "id": "2f7d1dab",
   "metadata": {},
   "outputs": [],
   "source": [
    "from sklearn.ensemble import RandomForestClassifier"
   ]
  },
  {
   "cell_type": "code",
   "execution_count": 102,
   "id": "078b5b5d",
   "metadata": {},
   "outputs": [
    {
     "name": "stdout",
     "output_type": "stream",
     "text": [
      "              precision    recall  f1-score   support\n",
      "\n",
      "           0       0.98      0.77      0.86    375651\n",
      "           1       0.17      0.78      0.28     23445\n",
      "\n",
      "    accuracy                           0.77    399096\n",
      "   macro avg       0.58      0.77      0.57    399096\n",
      "weighted avg       0.93      0.77      0.83    399096\n",
      "\n",
      "Accuracy: 0.7703910838494998\n",
      "Precision: 0.17417314106055828\n",
      "Recall: 0.7773939006184688\n",
      "F1 Score: 0.2845855974017863\n",
      "Confusion matrix:\n",
      "[[289234  86417]\n",
      " [  5219  18226]]\n"
     ]
    },
    {
     "data": {
      "image/png": "[encoded data removed]",
      "text/plain": [
       "<Figure size 432x288 with 2 Axes>"
      ]
     },
     "metadata": {
      "needs_background": "light"
     },
     "output_type": "display_data"
    },
    {
     "data": {
      "image/png": "[encoded data removed]",
      "text/plain": [
       "<Figure size 432x288 with 1 Axes>"
      ]
     },
     "metadata": {
      "needs_background": "light"
     },
     "output_type": "display_data"
    }
   ],
   "source": [
    "forest = modeling1(RandomForestClassifier)"
   ]
  },
  {
   "cell_type": "markdown",
   "id": "e54ed26c",
   "metadata": {},
   "source": [
    "## XGBoost"
   ]
  },
  {
   "cell_type": "code",
   "execution_count": 103,
   "id": "2e3cb135",
   "metadata": {},
   "outputs": [
    {
     "name": "stdout",
     "output_type": "stream",
     "text": [
      "              precision    recall  f1-score   support\n",
      "\n",
      "           0       0.98      0.76      0.86    375651\n",
      "           1       0.17      0.80      0.28     23445\n",
      "\n",
      "    accuracy                           0.76    399096\n",
      "   macro avg       0.58      0.78      0.57    399096\n",
      "weighted avg       0.94      0.76      0.82    399096\n",
      "\n",
      "Accuracy: 0.7626360574899272\n",
      "Precision: 0.17253132924185072\n",
      "Recall: 0.8009810194071231\n",
      "F1 Score: 0.2839087150103183\n",
      "Confusion matrix:\n",
      "[[285586  90065]\n",
      " [  4666  18779]]\n"
     ]
    },
    {
     "data": {
      "image/png": "[encoded data removed]",
      "text/plain": [
       "<Figure size 432x288 with 2 Axes>"
      ]
     },
     "metadata": {
      "needs_background": "light"
     },
     "output_type": "display_data"
    },
    {
     "data": {
      "image/png": "[encoded data removed]",
      "text/plain": [
       "<Figure size 432x288 with 1 Axes>"
      ]
     },
     "metadata": {
      "needs_background": "light"
     },
     "output_type": "display_data"
    }
   ],
   "source": [
    "xgb = modeling1(XGBClassifier)"
   ]
  },
  {
   "cell_type": "markdown",
   "id": "45ea2048",
   "metadata": {},
   "source": [
    "## GaussianNB"
   ]
  },
  {
   "cell_type": "code",
   "execution_count": 104,
   "id": "fca015e8",
   "metadata": {},
   "outputs": [],
   "source": [
    "from sklearn.naive_bayes import GaussianNB"
   ]
  },
  {
   "cell_type": "code",
   "execution_count": 105,
   "id": "727137b0",
   "metadata": {},
   "outputs": [
    {
     "name": "stdout",
     "output_type": "stream",
     "text": [
      "              precision    recall  f1-score   support\n",
      "\n",
      "           0       0.98      0.54      0.69    375651\n",
      "           1       0.10      0.85      0.18     23445\n",
      "\n",
      "    accuracy                           0.55    399096\n",
      "   macro avg       0.54      0.69      0.44    399096\n",
      "weighted avg       0.93      0.55      0.66    399096\n",
      "\n",
      "Accuracy: 0.5548664982861267\n",
      "Precision: 0.10225842395229351\n",
      "Recall: 0.8455107698869695\n",
      "F1 Score: 0.18245074713410678\n",
      "Confusion matrix:\n",
      "[[201622 174029]\n",
      " [  3622  19823]]\n"
     ]
    },
    {
     "data": {
      "image/png": "[encoded data removed]",
      "text/plain": [
       "<Figure size 432x288 with 2 Axes>"
      ]
     },
     "metadata": {
      "needs_background": "light"
     },
     "output_type": "display_data"
    },
    {
     "data": {
      "image/png": "[encoded data removed]",
      "text/plain": [
       "<Figure size 432x288 with 1 Axes>"
      ]
     },
     "metadata": {
      "needs_background": "light"
     },
     "output_type": "display_data"
    }
   ],
   "source": [
    "nb = modeling1(GaussianNB)"
   ]
  },
  {
   "cell_type": "markdown",
   "id": "dffee6f3",
   "metadata": {},
   "source": [
    "## Support Vector Machine"
   ]
  },
  {
   "cell_type": "code",
   "execution_count": 106,
   "id": "5ddb2ab7",
   "metadata": {},
   "outputs": [],
   "source": [
    "# from sklearn import svm\n",
    "# svm = modeling1(svm.SVC)"
   ]
  },
  {
   "cell_type": "markdown",
   "id": "85d56112",
   "metadata": {},
   "source": [
    "## Altogether"
   ]
  },
  {
   "cell_type": "code",
   "execution_count": 107,
   "id": "35805cd1",
   "metadata": {},
   "outputs": [
    {
     "data": {
      "text/plain": [
       "<Figure size 1800x1800 with 0 Axes>"
      ]
     },
     "metadata": {},
     "output_type": "display_data"
    },
    {
     "data": {
      "image/png": "[encoded data removed]",
      "text/plain": [
       "<Figure size 432x288 with 1 Axes>"
      ]
     },
     "metadata": {
      "needs_background": "light"
     },
     "output_type": "display_data"
    }
   ],
   "source": [
    "plt.figure(figsize=(25, 25))\n",
    "\n",
    "fig = plot_roc_curve(tree, X_test, y_test)\n",
    "fig = plot_roc_curve(logreg, X_test, y_test, ax = fig.ax_)\n",
    "fig = plot_roc_curve(nb, X_test, y_test, ax = fig.ax_)\n",
    "fig = plot_roc_curve(xgb, X_test, y_test, ax = fig.ax_)\n",
    "\n",
    "fig.figure_.suptitle(\"ROC curve comparison\")\n",
    "plt.plot([0, 1], [0, 1], 'r--')\n",
    "plt.show()"
   ]
  }
 ],
 "metadata": {
  "kernelspec": {
   "display_name": "Python 3",
   "language": "python",
   "name": "python3"
  },
  "language_info": {
   "codemirror_mode": {
    "name": "ipython",
    "version": 3
   },
   "file_extension": ".py",
   "mimetype": "text/x-python",
   "name": "python",
   "nbconvert_exporter": "python",
   "pygments_lexer": "ipython3",
   "version": "3.8.8"
  }
 },
 "nbformat": 4,
 "nbformat_minor": 5
}
